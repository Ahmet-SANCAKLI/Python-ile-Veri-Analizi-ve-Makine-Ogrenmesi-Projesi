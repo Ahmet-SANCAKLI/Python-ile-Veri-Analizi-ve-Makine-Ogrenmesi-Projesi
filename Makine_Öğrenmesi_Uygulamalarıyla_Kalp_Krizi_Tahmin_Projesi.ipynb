{
  "cells": [
    {
      "cell_type": "markdown",
      "source": [
        "# MAKİNE ÖĞRENMESİ UYGULAMALARIYLA KALP KRİZİ TAHMİN PROJESİ"
      ],
      "metadata": {
        "id": "9ij8QIMLZQgl"
      }
    },
    {
      "cell_type": "markdown",
      "source": [
        "![images.jfif](data:image/jpeg;base64,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)"
      ],
      "metadata": {
        "id": "s53o91Z9gzpg"
      }
    },
    {
      "cell_type": "markdown",
      "source": [
        "# GENEL HUSUSLAR"
      ],
      "metadata": {
        "id": "UXZWdZqRQntF"
      }
    },
    {
      "cell_type": "markdown",
      "source": [
        "---\n",
        "**1. Proje Konusu       :** Makine Öğrenmesi Uygulamalarıyla Kalp Krizi Tahmini\n",
        "\n",
        "**2. Projenin Kapsamı   :** Python ile Veri Analizi ve Makine Öğrenmesi\n",
        "\n",
        "**3. Projeyi Hazırlayan :** Ahmet SANCAKLI\n",
        "\n",
        "**4. Projede Kullanılan Veri Seti:**\n",
        "\n",
        "https://www.kaggle.com/datasets/rashikrahmanpritom/heart-attack-analysis-prediction-dataset?select=o2Saturation.csv\n",
        "\n",
        "**5. Proje Özeti :**\n",
        "\n",
        "Proje; veri analizi ve makine öğrenmesi uygulamaları ile olası bir kalp krizi rahatsızlığının önceden tahminini yapabilmek amacıyla tasarlanmıştır. \n",
        "\n",
        "Proje kapsamında www.kaggle.com sitesinden, kalp krizinin ön belirtilerini içerebilecek veri seti (303 satır x 14 sütun büyüklüğünde) tespit edilmiş ve çalışma bu veri seti üzerine inşa edilmiştir. Tespit edilen veri seti hem kategorik hem de numerik(Kantitatif,Nicel) verileri içermektedir.\n",
        "\n",
        "Projede python yazılım programı ile ilgili kütüphaneler kullanılmıştır. Bunun yanında temel istatistik bilgileri kullanılarak analizler yapılmıştır.\n",
        "\n",
        "Model seçimi kapsamında yapılan analizler sonucunda Destek Vektör Makinesi algoritması(SVC) kullanılmış ve neticede örneklem üzerinden % 81.79 doğrulukla kalp krizinin önceden tahmin edilebilmesi sağlanmıştır.\n",
        "\n",
        "**6. Kullanılan Açık Kütüphaneler :**\n",
        "1. Pandas\n",
        "2. Numpy\n",
        "3. Matplotlib\n",
        "4. Sklearn\n",
        "5. Seaborn\n",
        "6. Pickle\n",
        "7. Dlib\n",
        "---\n",
        "**7. Kaynakça:**\n",
        "1. Vektörel Bilişim Ders Notları\n",
        "2. \"Pima Indians Diabetes\" örnek modeli. "
      ],
      "metadata": {
        "id": "EHZgCPE6M8kQ"
      }
    },
    {
      "cell_type": "markdown",
      "source": [
        "# 1. VERİ HAZIRLAMA VE VERİ ÖN İŞLEME"
      ],
      "metadata": {
        "id": "N0ySdSqkMwWh"
      }
    },
    {
      "cell_type": "markdown",
      "source": [
        "**1.1 Dosyanın Colab'a Yüklenmesi**"
      ],
      "metadata": {
        "id": "cOZBIKjYOdJU"
      }
    },
    {
      "cell_type": "code",
      "execution_count": null,
      "metadata": {
        "id": "bOOLKh06UdAD",
        "colab": {
          "base_uri": "https://localhost:8080/",
          "height": 91
        },
        "outputId": "94f4566e-fab7-40e3-d67f-a1abe3b91867"
      },
      "outputs": [
        {
          "output_type": "display_data",
          "data": {
            "text/plain": [
              "<IPython.core.display.HTML object>"
            ],
            "text/html": [
              "\n",
              "     <input type=\"file\" id=\"files-174d54c3-72de-45a8-86e7-984f334060fc\" name=\"files[]\" multiple disabled\n",
              "        style=\"border:none\" />\n",
              "     <output id=\"result-174d54c3-72de-45a8-86e7-984f334060fc\">\n",
              "      Upload widget is only available when the cell has been executed in the\n",
              "      current browser session. Please rerun this cell to enable.\n",
              "      </output>\n",
              "      <script>// Copyright 2017 Google LLC\n",
              "//\n",
              "// Licensed under the Apache License, Version 2.0 (the \"License\");\n",
              "// you may not use this file except in compliance with the License.\n",
              "// You may obtain a copy of the License at\n",
              "//\n",
              "//      http://www.apache.org/licenses/LICENSE-2.0\n",
              "//\n",
              "// Unless required by applicable law or agreed to in writing, software\n",
              "// distributed under the License is distributed on an \"AS IS\" BASIS,\n",
              "// WITHOUT WARRANTIES OR CONDITIONS OF ANY KIND, either express or implied.\n",
              "// See the License for the specific language governing permissions and\n",
              "// limitations under the License.\n",
              "\n",
              "/**\n",
              " * @fileoverview Helpers for google.colab Python module.\n",
              " */\n",
              "(function(scope) {\n",
              "function span(text, styleAttributes = {}) {\n",
              "  const element = document.createElement('span');\n",
              "  element.textContent = text;\n",
              "  for (const key of Object.keys(styleAttributes)) {\n",
              "    element.style[key] = styleAttributes[key];\n",
              "  }\n",
              "  return element;\n",
              "}\n",
              "\n",
              "// Max number of bytes which will be uploaded at a time.\n",
              "const MAX_PAYLOAD_SIZE = 100 * 1024;\n",
              "\n",
              "function _uploadFiles(inputId, outputId) {\n",
              "  const steps = uploadFilesStep(inputId, outputId);\n",
              "  const outputElement = document.getElementById(outputId);\n",
              "  // Cache steps on the outputElement to make it available for the next call\n",
              "  // to uploadFilesContinue from Python.\n",
              "  outputElement.steps = steps;\n",
              "\n",
              "  return _uploadFilesContinue(outputId);\n",
              "}\n",
              "\n",
              "// This is roughly an async generator (not supported in the browser yet),\n",
              "// where there are multiple asynchronous steps and the Python side is going\n",
              "// to poll for completion of each step.\n",
              "// This uses a Promise to block the python side on completion of each step,\n",
              "// then passes the result of the previous step as the input to the next step.\n",
              "function _uploadFilesContinue(outputId) {\n",
              "  const outputElement = document.getElementById(outputId);\n",
              "  const steps = outputElement.steps;\n",
              "\n",
              "  const next = steps.next(outputElement.lastPromiseValue);\n",
              "  return Promise.resolve(next.value.promise).then((value) => {\n",
              "    // Cache the last promise value to make it available to the next\n",
              "    // step of the generator.\n",
              "    outputElement.lastPromiseValue = value;\n",
              "    return next.value.response;\n",
              "  });\n",
              "}\n",
              "\n",
              "/**\n",
              " * Generator function which is called between each async step of the upload\n",
              " * process.\n",
              " * @param {string} inputId Element ID of the input file picker element.\n",
              " * @param {string} outputId Element ID of the output display.\n",
              " * @return {!Iterable<!Object>} Iterable of next steps.\n",
              " */\n",
              "function* uploadFilesStep(inputId, outputId) {\n",
              "  const inputElement = document.getElementById(inputId);\n",
              "  inputElement.disabled = false;\n",
              "\n",
              "  const outputElement = document.getElementById(outputId);\n",
              "  outputElement.innerHTML = '';\n",
              "\n",
              "  const pickedPromise = new Promise((resolve) => {\n",
              "    inputElement.addEventListener('change', (e) => {\n",
              "      resolve(e.target.files);\n",
              "    });\n",
              "  });\n",
              "\n",
              "  const cancel = document.createElement('button');\n",
              "  inputElement.parentElement.appendChild(cancel);\n",
              "  cancel.textContent = 'Cancel upload';\n",
              "  const cancelPromise = new Promise((resolve) => {\n",
              "    cancel.onclick = () => {\n",
              "      resolve(null);\n",
              "    };\n",
              "  });\n",
              "\n",
              "  // Wait for the user to pick the files.\n",
              "  const files = yield {\n",
              "    promise: Promise.race([pickedPromise, cancelPromise]),\n",
              "    response: {\n",
              "      action: 'starting',\n",
              "    }\n",
              "  };\n",
              "\n",
              "  cancel.remove();\n",
              "\n",
              "  // Disable the input element since further picks are not allowed.\n",
              "  inputElement.disabled = true;\n",
              "\n",
              "  if (!files) {\n",
              "    return {\n",
              "      response: {\n",
              "        action: 'complete',\n",
              "      }\n",
              "    };\n",
              "  }\n",
              "\n",
              "  for (const file of files) {\n",
              "    const li = document.createElement('li');\n",
              "    li.append(span(file.name, {fontWeight: 'bold'}));\n",
              "    li.append(span(\n",
              "        `(${file.type || 'n/a'}) - ${file.size} bytes, ` +\n",
              "        `last modified: ${\n",
              "            file.lastModifiedDate ? file.lastModifiedDate.toLocaleDateString() :\n",
              "                                    'n/a'} - `));\n",
              "    const percent = span('0% done');\n",
              "    li.appendChild(percent);\n",
              "\n",
              "    outputElement.appendChild(li);\n",
              "\n",
              "    const fileDataPromise = new Promise((resolve) => {\n",
              "      const reader = new FileReader();\n",
              "      reader.onload = (e) => {\n",
              "        resolve(e.target.result);\n",
              "      };\n",
              "      reader.readAsArrayBuffer(file);\n",
              "    });\n",
              "    // Wait for the data to be ready.\n",
              "    let fileData = yield {\n",
              "      promise: fileDataPromise,\n",
              "      response: {\n",
              "        action: 'continue',\n",
              "      }\n",
              "    };\n",
              "\n",
              "    // Use a chunked sending to avoid message size limits. See b/62115660.\n",
              "    let position = 0;\n",
              "    do {\n",
              "      const length = Math.min(fileData.byteLength - position, MAX_PAYLOAD_SIZE);\n",
              "      const chunk = new Uint8Array(fileData, position, length);\n",
              "      position += length;\n",
              "\n",
              "      const base64 = btoa(String.fromCharCode.apply(null, chunk));\n",
              "      yield {\n",
              "        response: {\n",
              "          action: 'append',\n",
              "          file: file.name,\n",
              "          data: base64,\n",
              "        },\n",
              "      };\n",
              "\n",
              "      let percentDone = fileData.byteLength === 0 ?\n",
              "          100 :\n",
              "          Math.round((position / fileData.byteLength) * 100);\n",
              "      percent.textContent = `${percentDone}% done`;\n",
              "\n",
              "    } while (position < fileData.byteLength);\n",
              "  }\n",
              "\n",
              "  // All done.\n",
              "  yield {\n",
              "    response: {\n",
              "      action: 'complete',\n",
              "    }\n",
              "  };\n",
              "}\n",
              "\n",
              "scope.google = scope.google || {};\n",
              "scope.google.colab = scope.google.colab || {};\n",
              "scope.google.colab._files = {\n",
              "  _uploadFiles,\n",
              "  _uploadFilesContinue,\n",
              "};\n",
              "})(self);\n",
              "</script> "
            ]
          },
          "metadata": {}
        },
        {
          "output_type": "stream",
          "name": "stdout",
          "text": [
            "Saving heart.csv to heart.csv\n",
            "User uploaded file \"heart.csv\" with length 11323 bytes\n"
          ]
        }
      ],
      "source": [
        "from google.colab import files\n",
        "uploaded = files.upload()\n",
        "for fn in uploaded.keys():\n",
        "  print('User uploaded file \"{name}\" with length {length} bytes'.format(\n",
        "      name=fn, length=len(uploaded[fn])))"
      ]
    },
    {
      "cell_type": "markdown",
      "source": [
        "**1.2 İlgili Kütüphanelerin Yüklenmesi**"
      ],
      "metadata": {
        "id": "3sctmvr1OlAr"
      }
    },
    {
      "cell_type": "code",
      "execution_count": null,
      "metadata": {
        "id": "DeBZ6rBTj5gu"
      },
      "outputs": [],
      "source": [
        "import os\n",
        "import pandas as pd\n",
        "import numpy as np"
      ]
    },
    {
      "cell_type": "markdown",
      "source": [
        "**1.3 Veri Setinin Yüklenmesi**"
      ],
      "metadata": {
        "id": "v3HfmuxpPG8A"
      }
    },
    {
      "cell_type": "code",
      "execution_count": null,
      "metadata": {
        "id": "ktHFb7iGj6mn"
      },
      "outputs": [],
      "source": [
        "dataset = pd.read_csv(r\"/content/heart.csv\")"
      ]
    },
    {
      "cell_type": "markdown",
      "source": [
        "**1.4 Veri Setinin Boyutları**"
      ],
      "metadata": {
        "id": "ulXWI--_TkKp"
      }
    },
    {
      "cell_type": "code",
      "source": [
        "dataset.shape"
      ],
      "metadata": {
        "id": "r4Je2B2MTxfC",
        "colab": {
          "base_uri": "https://localhost:8080/"
        },
        "outputId": "66c15c80-65a8-4058-da76-fae2d6267941"
      },
      "execution_count": null,
      "outputs": [
        {
          "output_type": "execute_result",
          "data": {
            "text/plain": [
              "(303, 14)"
            ]
          },
          "metadata": {},
          "execution_count": 5
        }
      ]
    },
    {
      "cell_type": "markdown",
      "source": [
        "**1.5 Veri Setinin Genel Görünümü**"
      ],
      "metadata": {
        "id": "pSg2Uiv4Uu7a"
      }
    },
    {
      "cell_type": "code",
      "execution_count": null,
      "metadata": {
        "id": "dA6578AVkMq3",
        "colab": {
          "base_uri": "https://localhost:8080/",
          "height": 423
        },
        "outputId": "3f09d29c-baf1-49d2-829f-2a0fae1db511"
      },
      "outputs": [
        {
          "output_type": "execute_result",
          "data": {
            "text/plain": [
              "     age  sex  cp  trtbps  chol  fbs  restecg  thalachh  exng  oldpeak  slp  \\\n",
              "0     63    1   3     145   233    1        0       150     0      2.3    0   \n",
              "1     37    1   2     130   250    0        1       187     0      3.5    0   \n",
              "2     41    0   1     130   204    0        0       172     0      1.4    2   \n",
              "3     56    1   1     120   236    0        1       178     0      0.8    2   \n",
              "4     57    0   0     120   354    0        1       163     1      0.6    2   \n",
              "..   ...  ...  ..     ...   ...  ...      ...       ...   ...      ...  ...   \n",
              "298   57    0   0     140   241    0        1       123     1      0.2    1   \n",
              "299   45    1   3     110   264    0        1       132     0      1.2    1   \n",
              "300   68    1   0     144   193    1        1       141     0      3.4    1   \n",
              "301   57    1   0     130   131    0        1       115     1      1.2    1   \n",
              "302   57    0   1     130   236    0        0       174     0      0.0    1   \n",
              "\n",
              "     caa  thall  output  \n",
              "0      0      1       1  \n",
              "1      0      2       1  \n",
              "2      0      2       1  \n",
              "3      0      2       1  \n",
              "4      0      2       1  \n",
              "..   ...    ...     ...  \n",
              "298    0      3       0  \n",
              "299    0      3       0  \n",
              "300    2      3       0  \n",
              "301    1      3       0  \n",
              "302    1      2       0  \n",
              "\n",
              "[303 rows x 14 columns]"
            ],
            "text/html": [
              "\n",
              "  <div id=\"df-2264af79-d7ce-4479-be4c-b43da8501fb4\">\n",
              "    <div class=\"colab-df-container\">\n",
              "      <div>\n",
              "<style scoped>\n",
              "    .dataframe tbody tr th:only-of-type {\n",
              "        vertical-align: middle;\n",
              "    }\n",
              "\n",
              "    .dataframe tbody tr th {\n",
              "        vertical-align: top;\n",
              "    }\n",
              "\n",
              "    .dataframe thead th {\n",
              "        text-align: right;\n",
              "    }\n",
              "</style>\n",
              "<table border=\"1\" class=\"dataframe\">\n",
              "  <thead>\n",
              "    <tr style=\"text-align: right;\">\n",
              "      <th></th>\n",
              "      <th>age</th>\n",
              "      <th>sex</th>\n",
              "      <th>cp</th>\n",
              "      <th>trtbps</th>\n",
              "      <th>chol</th>\n",
              "      <th>fbs</th>\n",
              "      <th>restecg</th>\n",
              "      <th>thalachh</th>\n",
              "      <th>exng</th>\n",
              "      <th>oldpeak</th>\n",
              "      <th>slp</th>\n",
              "      <th>caa</th>\n",
              "      <th>thall</th>\n",
              "      <th>output</th>\n",
              "    </tr>\n",
              "  </thead>\n",
              "  <tbody>\n",
              "    <tr>\n",
              "      <th>0</th>\n",
              "      <td>63</td>\n",
              "      <td>1</td>\n",
              "      <td>3</td>\n",
              "      <td>145</td>\n",
              "      <td>233</td>\n",
              "      <td>1</td>\n",
              "      <td>0</td>\n",
              "      <td>150</td>\n",
              "      <td>0</td>\n",
              "      <td>2.3</td>\n",
              "      <td>0</td>\n",
              "      <td>0</td>\n",
              "      <td>1</td>\n",
              "      <td>1</td>\n",
              "    </tr>\n",
              "    <tr>\n",
              "      <th>1</th>\n",
              "      <td>37</td>\n",
              "      <td>1</td>\n",
              "      <td>2</td>\n",
              "      <td>130</td>\n",
              "      <td>250</td>\n",
              "      <td>0</td>\n",
              "      <td>1</td>\n",
              "      <td>187</td>\n",
              "      <td>0</td>\n",
              "      <td>3.5</td>\n",
              "      <td>0</td>\n",
              "      <td>0</td>\n",
              "      <td>2</td>\n",
              "      <td>1</td>\n",
              "    </tr>\n",
              "    <tr>\n",
              "      <th>2</th>\n",
              "      <td>41</td>\n",
              "      <td>0</td>\n",
              "      <td>1</td>\n",
              "      <td>130</td>\n",
              "      <td>204</td>\n",
              "      <td>0</td>\n",
              "      <td>0</td>\n",
              "      <td>172</td>\n",
              "      <td>0</td>\n",
              "      <td>1.4</td>\n",
              "      <td>2</td>\n",
              "      <td>0</td>\n",
              "      <td>2</td>\n",
              "      <td>1</td>\n",
              "    </tr>\n",
              "    <tr>\n",
              "      <th>3</th>\n",
              "      <td>56</td>\n",
              "      <td>1</td>\n",
              "      <td>1</td>\n",
              "      <td>120</td>\n",
              "      <td>236</td>\n",
              "      <td>0</td>\n",
              "      <td>1</td>\n",
              "      <td>178</td>\n",
              "      <td>0</td>\n",
              "      <td>0.8</td>\n",
              "      <td>2</td>\n",
              "      <td>0</td>\n",
              "      <td>2</td>\n",
              "      <td>1</td>\n",
              "    </tr>\n",
              "    <tr>\n",
              "      <th>4</th>\n",
              "      <td>57</td>\n",
              "      <td>0</td>\n",
              "      <td>0</td>\n",
              "      <td>120</td>\n",
              "      <td>354</td>\n",
              "      <td>0</td>\n",
              "      <td>1</td>\n",
              "      <td>163</td>\n",
              "      <td>1</td>\n",
              "      <td>0.6</td>\n",
              "      <td>2</td>\n",
              "      <td>0</td>\n",
              "      <td>2</td>\n",
              "      <td>1</td>\n",
              "    </tr>\n",
              "    <tr>\n",
              "      <th>...</th>\n",
              "      <td>...</td>\n",
              "      <td>...</td>\n",
              "      <td>...</td>\n",
              "      <td>...</td>\n",
              "      <td>...</td>\n",
              "      <td>...</td>\n",
              "      <td>...</td>\n",
              "      <td>...</td>\n",
              "      <td>...</td>\n",
              "      <td>...</td>\n",
              "      <td>...</td>\n",
              "      <td>...</td>\n",
              "      <td>...</td>\n",
              "      <td>...</td>\n",
              "    </tr>\n",
              "    <tr>\n",
              "      <th>298</th>\n",
              "      <td>57</td>\n",
              "      <td>0</td>\n",
              "      <td>0</td>\n",
              "      <td>140</td>\n",
              "      <td>241</td>\n",
              "      <td>0</td>\n",
              "      <td>1</td>\n",
              "      <td>123</td>\n",
              "      <td>1</td>\n",
              "      <td>0.2</td>\n",
              "      <td>1</td>\n",
              "      <td>0</td>\n",
              "      <td>3</td>\n",
              "      <td>0</td>\n",
              "    </tr>\n",
              "    <tr>\n",
              "      <th>299</th>\n",
              "      <td>45</td>\n",
              "      <td>1</td>\n",
              "      <td>3</td>\n",
              "      <td>110</td>\n",
              "      <td>264</td>\n",
              "      <td>0</td>\n",
              "      <td>1</td>\n",
              "      <td>132</td>\n",
              "      <td>0</td>\n",
              "      <td>1.2</td>\n",
              "      <td>1</td>\n",
              "      <td>0</td>\n",
              "      <td>3</td>\n",
              "      <td>0</td>\n",
              "    </tr>\n",
              "    <tr>\n",
              "      <th>300</th>\n",
              "      <td>68</td>\n",
              "      <td>1</td>\n",
              "      <td>0</td>\n",
              "      <td>144</td>\n",
              "      <td>193</td>\n",
              "      <td>1</td>\n",
              "      <td>1</td>\n",
              "      <td>141</td>\n",
              "      <td>0</td>\n",
              "      <td>3.4</td>\n",
              "      <td>1</td>\n",
              "      <td>2</td>\n",
              "      <td>3</td>\n",
              "      <td>0</td>\n",
              "    </tr>\n",
              "    <tr>\n",
              "      <th>301</th>\n",
              "      <td>57</td>\n",
              "      <td>1</td>\n",
              "      <td>0</td>\n",
              "      <td>130</td>\n",
              "      <td>131</td>\n",
              "      <td>0</td>\n",
              "      <td>1</td>\n",
              "      <td>115</td>\n",
              "      <td>1</td>\n",
              "      <td>1.2</td>\n",
              "      <td>1</td>\n",
              "      <td>1</td>\n",
              "      <td>3</td>\n",
              "      <td>0</td>\n",
              "    </tr>\n",
              "    <tr>\n",
              "      <th>302</th>\n",
              "      <td>57</td>\n",
              "      <td>0</td>\n",
              "      <td>1</td>\n",
              "      <td>130</td>\n",
              "      <td>236</td>\n",
              "      <td>0</td>\n",
              "      <td>0</td>\n",
              "      <td>174</td>\n",
              "      <td>0</td>\n",
              "      <td>0.0</td>\n",
              "      <td>1</td>\n",
              "      <td>1</td>\n",
              "      <td>2</td>\n",
              "      <td>0</td>\n",
              "    </tr>\n",
              "  </tbody>\n",
              "</table>\n",
              "<p>303 rows × 14 columns</p>\n",
              "</div>\n",
              "      <button class=\"colab-df-convert\" onclick=\"convertToInteractive('df-2264af79-d7ce-4479-be4c-b43da8501fb4')\"\n",
              "              title=\"Convert this dataframe to an interactive table.\"\n",
              "              style=\"display:none;\">\n",
              "        \n",
              "  <svg xmlns=\"http://www.w3.org/2000/svg\" height=\"24px\"viewBox=\"0 0 24 24\"\n",
              "       width=\"24px\">\n",
              "    <path d=\"M0 0h24v24H0V0z\" fill=\"none\"/>\n",
              "    <path d=\"M18.56 5.44l.94 2.06.94-2.06 2.06-.94-2.06-.94-.94-2.06-.94 2.06-2.06.94zm-11 1L8.5 8.5l.94-2.06 2.06-.94-2.06-.94L8.5 2.5l-.94 2.06-2.06.94zm10 10l.94 2.06.94-2.06 2.06-.94-2.06-.94-.94-2.06-.94 2.06-2.06.94z\"/><path d=\"M17.41 7.96l-1.37-1.37c-.4-.4-.92-.59-1.43-.59-.52 0-1.04.2-1.43.59L10.3 9.45l-7.72 7.72c-.78.78-.78 2.05 0 2.83L4 21.41c.39.39.9.59 1.41.59.51 0 1.02-.2 1.41-.59l7.78-7.78 2.81-2.81c.8-.78.8-2.07 0-2.86zM5.41 20L4 18.59l7.72-7.72 1.47 1.35L5.41 20z\"/>\n",
              "  </svg>\n",
              "      </button>\n",
              "      \n",
              "  <style>\n",
              "    .colab-df-container {\n",
              "      display:flex;\n",
              "      flex-wrap:wrap;\n",
              "      gap: 12px;\n",
              "    }\n",
              "\n",
              "    .colab-df-convert {\n",
              "      background-color: #E8F0FE;\n",
              "      border: none;\n",
              "      border-radius: 50%;\n",
              "      cursor: pointer;\n",
              "      display: none;\n",
              "      fill: #1967D2;\n",
              "      height: 32px;\n",
              "      padding: 0 0 0 0;\n",
              "      width: 32px;\n",
              "    }\n",
              "\n",
              "    .colab-df-convert:hover {\n",
              "      background-color: #E2EBFA;\n",
              "      box-shadow: 0px 1px 2px rgba(60, 64, 67, 0.3), 0px 1px 3px 1px rgba(60, 64, 67, 0.15);\n",
              "      fill: #174EA6;\n",
              "    }\n",
              "\n",
              "    [theme=dark] .colab-df-convert {\n",
              "      background-color: #3B4455;\n",
              "      fill: #D2E3FC;\n",
              "    }\n",
              "\n",
              "    [theme=dark] .colab-df-convert:hover {\n",
              "      background-color: #434B5C;\n",
              "      box-shadow: 0px 1px 3px 1px rgba(0, 0, 0, 0.15);\n",
              "      filter: drop-shadow(0px 1px 2px rgba(0, 0, 0, 0.3));\n",
              "      fill: #FFFFFF;\n",
              "    }\n",
              "  </style>\n",
              "\n",
              "      <script>\n",
              "        const buttonEl =\n",
              "          document.querySelector('#df-2264af79-d7ce-4479-be4c-b43da8501fb4 button.colab-df-convert');\n",
              "        buttonEl.style.display =\n",
              "          google.colab.kernel.accessAllowed ? 'block' : 'none';\n",
              "\n",
              "        async function convertToInteractive(key) {\n",
              "          const element = document.querySelector('#df-2264af79-d7ce-4479-be4c-b43da8501fb4');\n",
              "          const dataTable =\n",
              "            await google.colab.kernel.invokeFunction('convertToInteractive',\n",
              "                                                     [key], {});\n",
              "          if (!dataTable) return;\n",
              "\n",
              "          const docLinkHtml = 'Like what you see? Visit the ' +\n",
              "            '<a target=\"_blank\" href=https://colab.research.google.com/notebooks/data_table.ipynb>data table notebook</a>'\n",
              "            + ' to learn more about interactive tables.';\n",
              "          element.innerHTML = '';\n",
              "          dataTable['output_type'] = 'display_data';\n",
              "          await google.colab.output.renderOutput(dataTable, element);\n",
              "          const docLink = document.createElement('div');\n",
              "          docLink.innerHTML = docLinkHtml;\n",
              "          element.appendChild(docLink);\n",
              "        }\n",
              "      </script>\n",
              "    </div>\n",
              "  </div>\n",
              "  "
            ]
          },
          "metadata": {},
          "execution_count": 6
        }
      ],
      "source": [
        "dataset"
      ]
    },
    {
      "cell_type": "markdown",
      "source": [
        "---\n",
        "**Sütün Açıklaması**\n",
        "\n",
        "**Age** : Age of the patient\n",
        "\n",
        "**Sex** : Sex of the patient\n",
        "\n",
        "**cp** : Chest Pain type\n",
        "\n",
        "Value 1: typical angina Value 2: atypical angina Value 3: non-anginal pain Value 4: asymptomatic\n",
        "\n",
        "**trtbps** : resting blood pressure (in mm Hg)\n",
        "\n",
        "**chol** : cholestoral in mg/dl fetched via BMI sensor\n",
        "\n",
        "**fbs** : (fasting blood sugar > 120 mg/dl) (1 = true; 0 = false)\n",
        "\n",
        "**restecg** : resting electrocardiographic results\n",
        "\n",
        "Value 0: normal Value 1: having ST-T wave abnormality (T wave inversions and/or ST elevation or depression of > 0.05 mV) Value 2: showing probable or definite left ventricular hypertrophy by Estes' criteria\n",
        "\n",
        "**thalachh** : maximum heart rate achieved\n",
        "\n",
        "**exang**: exercise induced angina (1 = yes; 0 = no)\n",
        "\n",
        "**oldpeak** : Previous peak\n",
        "\n",
        "**slp** : Slope\n",
        "\n",
        "**caa** : Number of major vessels\n",
        "\n",
        "**thall** : Thalium Stress Test result (0,3)\n",
        "\n",
        "**output :** 0 = less chance of heart attack, 1 = more chance of heart attack\n",
        "---"
      ],
      "metadata": {
        "id": "HNDuFziwhPNR"
      }
    },
    {
      "cell_type": "markdown",
      "source": [
        "**1.6 Boş Veri Durumu**"
      ],
      "metadata": {
        "id": "DEseDFSpgEZI"
      }
    },
    {
      "cell_type": "code",
      "source": [
        "dataset.isnull().sum()"
      ],
      "metadata": {
        "id": "WkEk4jsuf82R",
        "colab": {
          "base_uri": "https://localhost:8080/"
        },
        "outputId": "396c3d96-1531-4057-dd11-63839607650a"
      },
      "execution_count": null,
      "outputs": [
        {
          "output_type": "execute_result",
          "data": {
            "text/plain": [
              "age         0\n",
              "sex         0\n",
              "cp          0\n",
              "trtbps      0\n",
              "chol        0\n",
              "fbs         0\n",
              "restecg     0\n",
              "thalachh    0\n",
              "exng        0\n",
              "oldpeak     0\n",
              "slp         0\n",
              "caa         0\n",
              "thall       0\n",
              "output      0\n",
              "dtype: int64"
            ]
          },
          "metadata": {},
          "execution_count": 7
        }
      ]
    },
    {
      "cell_type": "markdown",
      "source": [
        "**1.7 Veri Setindeki Sütün İsimlerin Değiştirilmesi**"
      ],
      "metadata": {
        "id": "XuRJlnOSalcd"
      }
    },
    {
      "cell_type": "code",
      "source": [
        "dataset.columns = [\"Age\",\"Gender\",\"ChestPainTp\",\"RestbloodPr\",\"Chol\",\"Fa_bloodSu\",\"rest_ecg\",\"MaxHeartRate\",\"Ex_In_An\",\"oldpeak\",\"slope\",\"NumMajVest\",\"ThallTest\",\"output\"]\n"
      ],
      "metadata": {
        "id": "kTspsCp7Xr_M"
      },
      "execution_count": null,
      "outputs": []
    },
    {
      "cell_type": "markdown",
      "source": [
        "**1.8 Tekrar Eden Verilerin Tespiti Ve Kaldırılması**"
      ],
      "metadata": {
        "id": "6VRGwmqadtvB"
      }
    },
    {
      "cell_type": "code",
      "source": [
        "dataset[dataset.duplicated()]"
      ],
      "metadata": {
        "id": "v7MhDcvSdEX2",
        "colab": {
          "base_uri": "https://localhost:8080/",
          "height": 81
        },
        "outputId": "ddea587a-f091-47ce-f97c-c9c6adc0b9a7"
      },
      "execution_count": null,
      "outputs": [
        {
          "output_type": "execute_result",
          "data": {
            "text/plain": [
              "     Age  Gender  ChestPainTp  RestbloodPr  Chol  Fa_bloodSu  rest_ecg  \\\n",
              "164   38       1            2          138   175           0         1   \n",
              "\n",
              "     MaxHeartRate  Ex_In_An  oldpeak  slope  NumMajVest  ThallTest  output  \n",
              "164           173         0      0.0      2           4          2       1  "
            ],
            "text/html": [
              "\n",
              "  <div id=\"df-bdf0abae-7ced-4f21-adaa-99fef7d3eee9\">\n",
              "    <div class=\"colab-df-container\">\n",
              "      <div>\n",
              "<style scoped>\n",
              "    .dataframe tbody tr th:only-of-type {\n",
              "        vertical-align: middle;\n",
              "    }\n",
              "\n",
              "    .dataframe tbody tr th {\n",
              "        vertical-align: top;\n",
              "    }\n",
              "\n",
              "    .dataframe thead th {\n",
              "        text-align: right;\n",
              "    }\n",
              "</style>\n",
              "<table border=\"1\" class=\"dataframe\">\n",
              "  <thead>\n",
              "    <tr style=\"text-align: right;\">\n",
              "      <th></th>\n",
              "      <th>Age</th>\n",
              "      <th>Gender</th>\n",
              "      <th>ChestPainTp</th>\n",
              "      <th>RestbloodPr</th>\n",
              "      <th>Chol</th>\n",
              "      <th>Fa_bloodSu</th>\n",
              "      <th>rest_ecg</th>\n",
              "      <th>MaxHeartRate</th>\n",
              "      <th>Ex_In_An</th>\n",
              "      <th>oldpeak</th>\n",
              "      <th>slope</th>\n",
              "      <th>NumMajVest</th>\n",
              "      <th>ThallTest</th>\n",
              "      <th>output</th>\n",
              "    </tr>\n",
              "  </thead>\n",
              "  <tbody>\n",
              "    <tr>\n",
              "      <th>164</th>\n",
              "      <td>38</td>\n",
              "      <td>1</td>\n",
              "      <td>2</td>\n",
              "      <td>138</td>\n",
              "      <td>175</td>\n",
              "      <td>0</td>\n",
              "      <td>1</td>\n",
              "      <td>173</td>\n",
              "      <td>0</td>\n",
              "      <td>0.0</td>\n",
              "      <td>2</td>\n",
              "      <td>4</td>\n",
              "      <td>2</td>\n",
              "      <td>1</td>\n",
              "    </tr>\n",
              "  </tbody>\n",
              "</table>\n",
              "</div>\n",
              "      <button class=\"colab-df-convert\" onclick=\"convertToInteractive('df-bdf0abae-7ced-4f21-adaa-99fef7d3eee9')\"\n",
              "              title=\"Convert this dataframe to an interactive table.\"\n",
              "              style=\"display:none;\">\n",
              "        \n",
              "  <svg xmlns=\"http://www.w3.org/2000/svg\" height=\"24px\"viewBox=\"0 0 24 24\"\n",
              "       width=\"24px\">\n",
              "    <path d=\"M0 0h24v24H0V0z\" fill=\"none\"/>\n",
              "    <path d=\"M18.56 5.44l.94 2.06.94-2.06 2.06-.94-2.06-.94-.94-2.06-.94 2.06-2.06.94zm-11 1L8.5 8.5l.94-2.06 2.06-.94-2.06-.94L8.5 2.5l-.94 2.06-2.06.94zm10 10l.94 2.06.94-2.06 2.06-.94-2.06-.94-.94-2.06-.94 2.06-2.06.94z\"/><path d=\"M17.41 7.96l-1.37-1.37c-.4-.4-.92-.59-1.43-.59-.52 0-1.04.2-1.43.59L10.3 9.45l-7.72 7.72c-.78.78-.78 2.05 0 2.83L4 21.41c.39.39.9.59 1.41.59.51 0 1.02-.2 1.41-.59l7.78-7.78 2.81-2.81c.8-.78.8-2.07 0-2.86zM5.41 20L4 18.59l7.72-7.72 1.47 1.35L5.41 20z\"/>\n",
              "  </svg>\n",
              "      </button>\n",
              "      \n",
              "  <style>\n",
              "    .colab-df-container {\n",
              "      display:flex;\n",
              "      flex-wrap:wrap;\n",
              "      gap: 12px;\n",
              "    }\n",
              "\n",
              "    .colab-df-convert {\n",
              "      background-color: #E8F0FE;\n",
              "      border: none;\n",
              "      border-radius: 50%;\n",
              "      cursor: pointer;\n",
              "      display: none;\n",
              "      fill: #1967D2;\n",
              "      height: 32px;\n",
              "      padding: 0 0 0 0;\n",
              "      width: 32px;\n",
              "    }\n",
              "\n",
              "    .colab-df-convert:hover {\n",
              "      background-color: #E2EBFA;\n",
              "      box-shadow: 0px 1px 2px rgba(60, 64, 67, 0.3), 0px 1px 3px 1px rgba(60, 64, 67, 0.15);\n",
              "      fill: #174EA6;\n",
              "    }\n",
              "\n",
              "    [theme=dark] .colab-df-convert {\n",
              "      background-color: #3B4455;\n",
              "      fill: #D2E3FC;\n",
              "    }\n",
              "\n",
              "    [theme=dark] .colab-df-convert:hover {\n",
              "      background-color: #434B5C;\n",
              "      box-shadow: 0px 1px 3px 1px rgba(0, 0, 0, 0.15);\n",
              "      filter: drop-shadow(0px 1px 2px rgba(0, 0, 0, 0.3));\n",
              "      fill: #FFFFFF;\n",
              "    }\n",
              "  </style>\n",
              "\n",
              "      <script>\n",
              "        const buttonEl =\n",
              "          document.querySelector('#df-bdf0abae-7ced-4f21-adaa-99fef7d3eee9 button.colab-df-convert');\n",
              "        buttonEl.style.display =\n",
              "          google.colab.kernel.accessAllowed ? 'block' : 'none';\n",
              "\n",
              "        async function convertToInteractive(key) {\n",
              "          const element = document.querySelector('#df-bdf0abae-7ced-4f21-adaa-99fef7d3eee9');\n",
              "          const dataTable =\n",
              "            await google.colab.kernel.invokeFunction('convertToInteractive',\n",
              "                                                     [key], {});\n",
              "          if (!dataTable) return;\n",
              "\n",
              "          const docLinkHtml = 'Like what you see? Visit the ' +\n",
              "            '<a target=\"_blank\" href=https://colab.research.google.com/notebooks/data_table.ipynb>data table notebook</a>'\n",
              "            + ' to learn more about interactive tables.';\n",
              "          element.innerHTML = '';\n",
              "          dataTable['output_type'] = 'display_data';\n",
              "          await google.colab.output.renderOutput(dataTable, element);\n",
              "          const docLink = document.createElement('div');\n",
              "          docLink.innerHTML = docLinkHtml;\n",
              "          element.appendChild(docLink);\n",
              "        }\n",
              "      </script>\n",
              "    </div>\n",
              "  </div>\n",
              "  "
            ]
          },
          "metadata": {},
          "execution_count": 9
        }
      ]
    },
    {
      "cell_type": "code",
      "source": [
        "dataset.drop_duplicates(keep='first',inplace=True)"
      ],
      "metadata": {
        "id": "N56MG0d1d_oZ"
      },
      "execution_count": null,
      "outputs": []
    },
    {
      "cell_type": "markdown",
      "source": [
        "**1.9 Veri Setinin Yeni Görünümü**"
      ],
      "metadata": {
        "id": "_q_YVcorey4U"
      }
    },
    {
      "cell_type": "code",
      "source": [
        "dataset"
      ],
      "metadata": {
        "id": "WMd6TMKmZm_z",
        "colab": {
          "base_uri": "https://localhost:8080/",
          "height": 423
        },
        "outputId": "6a82b3be-4527-4dba-dd68-09de860872b0"
      },
      "execution_count": null,
      "outputs": [
        {
          "output_type": "execute_result",
          "data": {
            "text/plain": [
              "     Age  Gender  ChestPainTp  RestbloodPr  Chol  Fa_bloodSu  rest_ecg  \\\n",
              "0     63       1            3          145   233           1         0   \n",
              "1     37       1            2          130   250           0         1   \n",
              "2     41       0            1          130   204           0         0   \n",
              "3     56       1            1          120   236           0         1   \n",
              "4     57       0            0          120   354           0         1   \n",
              "..   ...     ...          ...          ...   ...         ...       ...   \n",
              "298   57       0            0          140   241           0         1   \n",
              "299   45       1            3          110   264           0         1   \n",
              "300   68       1            0          144   193           1         1   \n",
              "301   57       1            0          130   131           0         1   \n",
              "302   57       0            1          130   236           0         0   \n",
              "\n",
              "     MaxHeartRate  Ex_In_An  oldpeak  slope  NumMajVest  ThallTest  output  \n",
              "0             150         0      2.3      0           0          1       1  \n",
              "1             187         0      3.5      0           0          2       1  \n",
              "2             172         0      1.4      2           0          2       1  \n",
              "3             178         0      0.8      2           0          2       1  \n",
              "4             163         1      0.6      2           0          2       1  \n",
              "..            ...       ...      ...    ...         ...        ...     ...  \n",
              "298           123         1      0.2      1           0          3       0  \n",
              "299           132         0      1.2      1           0          3       0  \n",
              "300           141         0      3.4      1           2          3       0  \n",
              "301           115         1      1.2      1           1          3       0  \n",
              "302           174         0      0.0      1           1          2       0  \n",
              "\n",
              "[302 rows x 14 columns]"
            ],
            "text/html": [
              "\n",
              "  <div id=\"df-1b65d090-5e39-4bd6-a1b5-6e96db8452f4\">\n",
              "    <div class=\"colab-df-container\">\n",
              "      <div>\n",
              "<style scoped>\n",
              "    .dataframe tbody tr th:only-of-type {\n",
              "        vertical-align: middle;\n",
              "    }\n",
              "\n",
              "    .dataframe tbody tr th {\n",
              "        vertical-align: top;\n",
              "    }\n",
              "\n",
              "    .dataframe thead th {\n",
              "        text-align: right;\n",
              "    }\n",
              "</style>\n",
              "<table border=\"1\" class=\"dataframe\">\n",
              "  <thead>\n",
              "    <tr style=\"text-align: right;\">\n",
              "      <th></th>\n",
              "      <th>Age</th>\n",
              "      <th>Gender</th>\n",
              "      <th>ChestPainTp</th>\n",
              "      <th>RestbloodPr</th>\n",
              "      <th>Chol</th>\n",
              "      <th>Fa_bloodSu</th>\n",
              "      <th>rest_ecg</th>\n",
              "      <th>MaxHeartRate</th>\n",
              "      <th>Ex_In_An</th>\n",
              "      <th>oldpeak</th>\n",
              "      <th>slope</th>\n",
              "      <th>NumMajVest</th>\n",
              "      <th>ThallTest</th>\n",
              "      <th>output</th>\n",
              "    </tr>\n",
              "  </thead>\n",
              "  <tbody>\n",
              "    <tr>\n",
              "      <th>0</th>\n",
              "      <td>63</td>\n",
              "      <td>1</td>\n",
              "      <td>3</td>\n",
              "      <td>145</td>\n",
              "      <td>233</td>\n",
              "      <td>1</td>\n",
              "      <td>0</td>\n",
              "      <td>150</td>\n",
              "      <td>0</td>\n",
              "      <td>2.3</td>\n",
              "      <td>0</td>\n",
              "      <td>0</td>\n",
              "      <td>1</td>\n",
              "      <td>1</td>\n",
              "    </tr>\n",
              "    <tr>\n",
              "      <th>1</th>\n",
              "      <td>37</td>\n",
              "      <td>1</td>\n",
              "      <td>2</td>\n",
              "      <td>130</td>\n",
              "      <td>250</td>\n",
              "      <td>0</td>\n",
              "      <td>1</td>\n",
              "      <td>187</td>\n",
              "      <td>0</td>\n",
              "      <td>3.5</td>\n",
              "      <td>0</td>\n",
              "      <td>0</td>\n",
              "      <td>2</td>\n",
              "      <td>1</td>\n",
              "    </tr>\n",
              "    <tr>\n",
              "      <th>2</th>\n",
              "      <td>41</td>\n",
              "      <td>0</td>\n",
              "      <td>1</td>\n",
              "      <td>130</td>\n",
              "      <td>204</td>\n",
              "      <td>0</td>\n",
              "      <td>0</td>\n",
              "      <td>172</td>\n",
              "      <td>0</td>\n",
              "      <td>1.4</td>\n",
              "      <td>2</td>\n",
              "      <td>0</td>\n",
              "      <td>2</td>\n",
              "      <td>1</td>\n",
              "    </tr>\n",
              "    <tr>\n",
              "      <th>3</th>\n",
              "      <td>56</td>\n",
              "      <td>1</td>\n",
              "      <td>1</td>\n",
              "      <td>120</td>\n",
              "      <td>236</td>\n",
              "      <td>0</td>\n",
              "      <td>1</td>\n",
              "      <td>178</td>\n",
              "      <td>0</td>\n",
              "      <td>0.8</td>\n",
              "      <td>2</td>\n",
              "      <td>0</td>\n",
              "      <td>2</td>\n",
              "      <td>1</td>\n",
              "    </tr>\n",
              "    <tr>\n",
              "      <th>4</th>\n",
              "      <td>57</td>\n",
              "      <td>0</td>\n",
              "      <td>0</td>\n",
              "      <td>120</td>\n",
              "      <td>354</td>\n",
              "      <td>0</td>\n",
              "      <td>1</td>\n",
              "      <td>163</td>\n",
              "      <td>1</td>\n",
              "      <td>0.6</td>\n",
              "      <td>2</td>\n",
              "      <td>0</td>\n",
              "      <td>2</td>\n",
              "      <td>1</td>\n",
              "    </tr>\n",
              "    <tr>\n",
              "      <th>...</th>\n",
              "      <td>...</td>\n",
              "      <td>...</td>\n",
              "      <td>...</td>\n",
              "      <td>...</td>\n",
              "      <td>...</td>\n",
              "      <td>...</td>\n",
              "      <td>...</td>\n",
              "      <td>...</td>\n",
              "      <td>...</td>\n",
              "      <td>...</td>\n",
              "      <td>...</td>\n",
              "      <td>...</td>\n",
              "      <td>...</td>\n",
              "      <td>...</td>\n",
              "    </tr>\n",
              "    <tr>\n",
              "      <th>298</th>\n",
              "      <td>57</td>\n",
              "      <td>0</td>\n",
              "      <td>0</td>\n",
              "      <td>140</td>\n",
              "      <td>241</td>\n",
              "      <td>0</td>\n",
              "      <td>1</td>\n",
              "      <td>123</td>\n",
              "      <td>1</td>\n",
              "      <td>0.2</td>\n",
              "      <td>1</td>\n",
              "      <td>0</td>\n",
              "      <td>3</td>\n",
              "      <td>0</td>\n",
              "    </tr>\n",
              "    <tr>\n",
              "      <th>299</th>\n",
              "      <td>45</td>\n",
              "      <td>1</td>\n",
              "      <td>3</td>\n",
              "      <td>110</td>\n",
              "      <td>264</td>\n",
              "      <td>0</td>\n",
              "      <td>1</td>\n",
              "      <td>132</td>\n",
              "      <td>0</td>\n",
              "      <td>1.2</td>\n",
              "      <td>1</td>\n",
              "      <td>0</td>\n",
              "      <td>3</td>\n",
              "      <td>0</td>\n",
              "    </tr>\n",
              "    <tr>\n",
              "      <th>300</th>\n",
              "      <td>68</td>\n",
              "      <td>1</td>\n",
              "      <td>0</td>\n",
              "      <td>144</td>\n",
              "      <td>193</td>\n",
              "      <td>1</td>\n",
              "      <td>1</td>\n",
              "      <td>141</td>\n",
              "      <td>0</td>\n",
              "      <td>3.4</td>\n",
              "      <td>1</td>\n",
              "      <td>2</td>\n",
              "      <td>3</td>\n",
              "      <td>0</td>\n",
              "    </tr>\n",
              "    <tr>\n",
              "      <th>301</th>\n",
              "      <td>57</td>\n",
              "      <td>1</td>\n",
              "      <td>0</td>\n",
              "      <td>130</td>\n",
              "      <td>131</td>\n",
              "      <td>0</td>\n",
              "      <td>1</td>\n",
              "      <td>115</td>\n",
              "      <td>1</td>\n",
              "      <td>1.2</td>\n",
              "      <td>1</td>\n",
              "      <td>1</td>\n",
              "      <td>3</td>\n",
              "      <td>0</td>\n",
              "    </tr>\n",
              "    <tr>\n",
              "      <th>302</th>\n",
              "      <td>57</td>\n",
              "      <td>0</td>\n",
              "      <td>1</td>\n",
              "      <td>130</td>\n",
              "      <td>236</td>\n",
              "      <td>0</td>\n",
              "      <td>0</td>\n",
              "      <td>174</td>\n",
              "      <td>0</td>\n",
              "      <td>0.0</td>\n",
              "      <td>1</td>\n",
              "      <td>1</td>\n",
              "      <td>2</td>\n",
              "      <td>0</td>\n",
              "    </tr>\n",
              "  </tbody>\n",
              "</table>\n",
              "<p>302 rows × 14 columns</p>\n",
              "</div>\n",
              "      <button class=\"colab-df-convert\" onclick=\"convertToInteractive('df-1b65d090-5e39-4bd6-a1b5-6e96db8452f4')\"\n",
              "              title=\"Convert this dataframe to an interactive table.\"\n",
              "              style=\"display:none;\">\n",
              "        \n",
              "  <svg xmlns=\"http://www.w3.org/2000/svg\" height=\"24px\"viewBox=\"0 0 24 24\"\n",
              "       width=\"24px\">\n",
              "    <path d=\"M0 0h24v24H0V0z\" fill=\"none\"/>\n",
              "    <path d=\"M18.56 5.44l.94 2.06.94-2.06 2.06-.94-2.06-.94-.94-2.06-.94 2.06-2.06.94zm-11 1L8.5 8.5l.94-2.06 2.06-.94-2.06-.94L8.5 2.5l-.94 2.06-2.06.94zm10 10l.94 2.06.94-2.06 2.06-.94-2.06-.94-.94-2.06-.94 2.06-2.06.94z\"/><path d=\"M17.41 7.96l-1.37-1.37c-.4-.4-.92-.59-1.43-.59-.52 0-1.04.2-1.43.59L10.3 9.45l-7.72 7.72c-.78.78-.78 2.05 0 2.83L4 21.41c.39.39.9.59 1.41.59.51 0 1.02-.2 1.41-.59l7.78-7.78 2.81-2.81c.8-.78.8-2.07 0-2.86zM5.41 20L4 18.59l7.72-7.72 1.47 1.35L5.41 20z\"/>\n",
              "  </svg>\n",
              "      </button>\n",
              "      \n",
              "  <style>\n",
              "    .colab-df-container {\n",
              "      display:flex;\n",
              "      flex-wrap:wrap;\n",
              "      gap: 12px;\n",
              "    }\n",
              "\n",
              "    .colab-df-convert {\n",
              "      background-color: #E8F0FE;\n",
              "      border: none;\n",
              "      border-radius: 50%;\n",
              "      cursor: pointer;\n",
              "      display: none;\n",
              "      fill: #1967D2;\n",
              "      height: 32px;\n",
              "      padding: 0 0 0 0;\n",
              "      width: 32px;\n",
              "    }\n",
              "\n",
              "    .colab-df-convert:hover {\n",
              "      background-color: #E2EBFA;\n",
              "      box-shadow: 0px 1px 2px rgba(60, 64, 67, 0.3), 0px 1px 3px 1px rgba(60, 64, 67, 0.15);\n",
              "      fill: #174EA6;\n",
              "    }\n",
              "\n",
              "    [theme=dark] .colab-df-convert {\n",
              "      background-color: #3B4455;\n",
              "      fill: #D2E3FC;\n",
              "    }\n",
              "\n",
              "    [theme=dark] .colab-df-convert:hover {\n",
              "      background-color: #434B5C;\n",
              "      box-shadow: 0px 1px 3px 1px rgba(0, 0, 0, 0.15);\n",
              "      filter: drop-shadow(0px 1px 2px rgba(0, 0, 0, 0.3));\n",
              "      fill: #FFFFFF;\n",
              "    }\n",
              "  </style>\n",
              "\n",
              "      <script>\n",
              "        const buttonEl =\n",
              "          document.querySelector('#df-1b65d090-5e39-4bd6-a1b5-6e96db8452f4 button.colab-df-convert');\n",
              "        buttonEl.style.display =\n",
              "          google.colab.kernel.accessAllowed ? 'block' : 'none';\n",
              "\n",
              "        async function convertToInteractive(key) {\n",
              "          const element = document.querySelector('#df-1b65d090-5e39-4bd6-a1b5-6e96db8452f4');\n",
              "          const dataTable =\n",
              "            await google.colab.kernel.invokeFunction('convertToInteractive',\n",
              "                                                     [key], {});\n",
              "          if (!dataTable) return;\n",
              "\n",
              "          const docLinkHtml = 'Like what you see? Visit the ' +\n",
              "            '<a target=\"_blank\" href=https://colab.research.google.com/notebooks/data_table.ipynb>data table notebook</a>'\n",
              "            + ' to learn more about interactive tables.';\n",
              "          element.innerHTML = '';\n",
              "          dataTable['output_type'] = 'display_data';\n",
              "          await google.colab.output.renderOutput(dataTable, element);\n",
              "          const docLink = document.createElement('div');\n",
              "          docLink.innerHTML = docLinkHtml;\n",
              "          element.appendChild(docLink);\n",
              "        }\n",
              "      </script>\n",
              "    </div>\n",
              "  </div>\n",
              "  "
            ]
          },
          "metadata": {},
          "execution_count": 11
        }
      ]
    },
    {
      "cell_type": "markdown",
      "source": [
        "**1.10 Sütünlar Hakkında Genel Bilgiler**"
      ],
      "metadata": {
        "id": "GuhIvPLAdgWd"
      }
    },
    {
      "cell_type": "code",
      "source": [
        "dataset.info()"
      ],
      "metadata": {
        "id": "WcwwJlSTcHRc",
        "colab": {
          "base_uri": "https://localhost:8080/"
        },
        "outputId": "4987222f-1638-475e-8b28-4cc6590cd0ca"
      },
      "execution_count": null,
      "outputs": [
        {
          "output_type": "stream",
          "name": "stdout",
          "text": [
            "<class 'pandas.core.frame.DataFrame'>\n",
            "Int64Index: 302 entries, 0 to 302\n",
            "Data columns (total 14 columns):\n",
            " #   Column        Non-Null Count  Dtype  \n",
            "---  ------        --------------  -----  \n",
            " 0   Age           302 non-null    int64  \n",
            " 1   Gender        302 non-null    int64  \n",
            " 2   ChestPainTp   302 non-null    int64  \n",
            " 3   RestbloodPr   302 non-null    int64  \n",
            " 4   Chol          302 non-null    int64  \n",
            " 5   Fa_bloodSu    302 non-null    int64  \n",
            " 6   rest_ecg      302 non-null    int64  \n",
            " 7   MaxHeartRate  302 non-null    int64  \n",
            " 8   Ex_In_An      302 non-null    int64  \n",
            " 9   oldpeak       302 non-null    float64\n",
            " 10  slope         302 non-null    int64  \n",
            " 11  NumMajVest    302 non-null    int64  \n",
            " 12  ThallTest     302 non-null    int64  \n",
            " 13  output        302 non-null    int64  \n",
            "dtypes: float64(1), int64(13)\n",
            "memory usage: 35.4 KB\n"
          ]
        }
      ]
    },
    {
      "cell_type": "markdown",
      "source": [
        "# 2. ÖZELLİK SEÇİMİ"
      ],
      "metadata": {
        "id": "3DKwzwBcaow8"
      }
    },
    {
      "cell_type": "markdown",
      "source": [
        "**2.1 Veri Setinin İstatistiksel Görünümü**"
      ],
      "metadata": {
        "id": "Ulr1ELZOVAiB"
      }
    },
    {
      "cell_type": "code",
      "execution_count": null,
      "metadata": {
        "id": "qX3GrDvNkRtC",
        "colab": {
          "base_uri": "https://localhost:8080/",
          "height": 300
        },
        "outputId": "3d5d23d0-6b1e-4fe3-c31a-7c0459ebeaba"
      },
      "outputs": [
        {
          "output_type": "execute_result",
          "data": {
            "text/plain": [
              "             Age      Gender  ChestPainTp  RestbloodPr        Chol  \\\n",
              "count  302.00000  302.000000   302.000000   302.000000  302.000000   \n",
              "mean    54.42053    0.682119     0.963576   131.602649  246.500000   \n",
              "std      9.04797    0.466426     1.032044    17.563394   51.753489   \n",
              "min     29.00000    0.000000     0.000000    94.000000  126.000000   \n",
              "25%     48.00000    0.000000     0.000000   120.000000  211.000000   \n",
              "50%     55.50000    1.000000     1.000000   130.000000  240.500000   \n",
              "75%     61.00000    1.000000     2.000000   140.000000  274.750000   \n",
              "max     77.00000    1.000000     3.000000   200.000000  564.000000   \n",
              "\n",
              "       Fa_bloodSu    rest_ecg  MaxHeartRate    Ex_In_An     oldpeak  \\\n",
              "count  302.000000  302.000000    302.000000  302.000000  302.000000   \n",
              "mean     0.149007    0.526490    149.569536    0.327815    1.043046   \n",
              "std      0.356686    0.526027     22.903527    0.470196    1.161452   \n",
              "min      0.000000    0.000000     71.000000    0.000000    0.000000   \n",
              "25%      0.000000    0.000000    133.250000    0.000000    0.000000   \n",
              "50%      0.000000    1.000000    152.500000    0.000000    0.800000   \n",
              "75%      0.000000    1.000000    166.000000    1.000000    1.600000   \n",
              "max      1.000000    2.000000    202.000000    1.000000    6.200000   \n",
              "\n",
              "            slope  NumMajVest   ThallTest      output  \n",
              "count  302.000000  302.000000  302.000000  302.000000  \n",
              "mean     1.397351    0.718543    2.314570    0.543046  \n",
              "std      0.616274    1.006748    0.613026    0.498970  \n",
              "min      0.000000    0.000000    0.000000    0.000000  \n",
              "25%      1.000000    0.000000    2.000000    0.000000  \n",
              "50%      1.000000    0.000000    2.000000    1.000000  \n",
              "75%      2.000000    1.000000    3.000000    1.000000  \n",
              "max      2.000000    4.000000    3.000000    1.000000  "
            ],
            "text/html": [
              "\n",
              "  <div id=\"df-f380c53d-7a15-4430-b68a-9813137c06b0\">\n",
              "    <div class=\"colab-df-container\">\n",
              "      <div>\n",
              "<style scoped>\n",
              "    .dataframe tbody tr th:only-of-type {\n",
              "        vertical-align: middle;\n",
              "    }\n",
              "\n",
              "    .dataframe tbody tr th {\n",
              "        vertical-align: top;\n",
              "    }\n",
              "\n",
              "    .dataframe thead th {\n",
              "        text-align: right;\n",
              "    }\n",
              "</style>\n",
              "<table border=\"1\" class=\"dataframe\">\n",
              "  <thead>\n",
              "    <tr style=\"text-align: right;\">\n",
              "      <th></th>\n",
              "      <th>Age</th>\n",
              "      <th>Gender</th>\n",
              "      <th>ChestPainTp</th>\n",
              "      <th>RestbloodPr</th>\n",
              "      <th>Chol</th>\n",
              "      <th>Fa_bloodSu</th>\n",
              "      <th>rest_ecg</th>\n",
              "      <th>MaxHeartRate</th>\n",
              "      <th>Ex_In_An</th>\n",
              "      <th>oldpeak</th>\n",
              "      <th>slope</th>\n",
              "      <th>NumMajVest</th>\n",
              "      <th>ThallTest</th>\n",
              "      <th>output</th>\n",
              "    </tr>\n",
              "  </thead>\n",
              "  <tbody>\n",
              "    <tr>\n",
              "      <th>count</th>\n",
              "      <td>302.00000</td>\n",
              "      <td>302.000000</td>\n",
              "      <td>302.000000</td>\n",
              "      <td>302.000000</td>\n",
              "      <td>302.000000</td>\n",
              "      <td>302.000000</td>\n",
              "      <td>302.000000</td>\n",
              "      <td>302.000000</td>\n",
              "      <td>302.000000</td>\n",
              "      <td>302.000000</td>\n",
              "      <td>302.000000</td>\n",
              "      <td>302.000000</td>\n",
              "      <td>302.000000</td>\n",
              "      <td>302.000000</td>\n",
              "    </tr>\n",
              "    <tr>\n",
              "      <th>mean</th>\n",
              "      <td>54.42053</td>\n",
              "      <td>0.682119</td>\n",
              "      <td>0.963576</td>\n",
              "      <td>131.602649</td>\n",
              "      <td>246.500000</td>\n",
              "      <td>0.149007</td>\n",
              "      <td>0.526490</td>\n",
              "      <td>149.569536</td>\n",
              "      <td>0.327815</td>\n",
              "      <td>1.043046</td>\n",
              "      <td>1.397351</td>\n",
              "      <td>0.718543</td>\n",
              "      <td>2.314570</td>\n",
              "      <td>0.543046</td>\n",
              "    </tr>\n",
              "    <tr>\n",
              "      <th>std</th>\n",
              "      <td>9.04797</td>\n",
              "      <td>0.466426</td>\n",
              "      <td>1.032044</td>\n",
              "      <td>17.563394</td>\n",
              "      <td>51.753489</td>\n",
              "      <td>0.356686</td>\n",
              "      <td>0.526027</td>\n",
              "      <td>22.903527</td>\n",
              "      <td>0.470196</td>\n",
              "      <td>1.161452</td>\n",
              "      <td>0.616274</td>\n",
              "      <td>1.006748</td>\n",
              "      <td>0.613026</td>\n",
              "      <td>0.498970</td>\n",
              "    </tr>\n",
              "    <tr>\n",
              "      <th>min</th>\n",
              "      <td>29.00000</td>\n",
              "      <td>0.000000</td>\n",
              "      <td>0.000000</td>\n",
              "      <td>94.000000</td>\n",
              "      <td>126.000000</td>\n",
              "      <td>0.000000</td>\n",
              "      <td>0.000000</td>\n",
              "      <td>71.000000</td>\n",
              "      <td>0.000000</td>\n",
              "      <td>0.000000</td>\n",
              "      <td>0.000000</td>\n",
              "      <td>0.000000</td>\n",
              "      <td>0.000000</td>\n",
              "      <td>0.000000</td>\n",
              "    </tr>\n",
              "    <tr>\n",
              "      <th>25%</th>\n",
              "      <td>48.00000</td>\n",
              "      <td>0.000000</td>\n",
              "      <td>0.000000</td>\n",
              "      <td>120.000000</td>\n",
              "      <td>211.000000</td>\n",
              "      <td>0.000000</td>\n",
              "      <td>0.000000</td>\n",
              "      <td>133.250000</td>\n",
              "      <td>0.000000</td>\n",
              "      <td>0.000000</td>\n",
              "      <td>1.000000</td>\n",
              "      <td>0.000000</td>\n",
              "      <td>2.000000</td>\n",
              "      <td>0.000000</td>\n",
              "    </tr>\n",
              "    <tr>\n",
              "      <th>50%</th>\n",
              "      <td>55.50000</td>\n",
              "      <td>1.000000</td>\n",
              "      <td>1.000000</td>\n",
              "      <td>130.000000</td>\n",
              "      <td>240.500000</td>\n",
              "      <td>0.000000</td>\n",
              "      <td>1.000000</td>\n",
              "      <td>152.500000</td>\n",
              "      <td>0.000000</td>\n",
              "      <td>0.800000</td>\n",
              "      <td>1.000000</td>\n",
              "      <td>0.000000</td>\n",
              "      <td>2.000000</td>\n",
              "      <td>1.000000</td>\n",
              "    </tr>\n",
              "    <tr>\n",
              "      <th>75%</th>\n",
              "      <td>61.00000</td>\n",
              "      <td>1.000000</td>\n",
              "      <td>2.000000</td>\n",
              "      <td>140.000000</td>\n",
              "      <td>274.750000</td>\n",
              "      <td>0.000000</td>\n",
              "      <td>1.000000</td>\n",
              "      <td>166.000000</td>\n",
              "      <td>1.000000</td>\n",
              "      <td>1.600000</td>\n",
              "      <td>2.000000</td>\n",
              "      <td>1.000000</td>\n",
              "      <td>3.000000</td>\n",
              "      <td>1.000000</td>\n",
              "    </tr>\n",
              "    <tr>\n",
              "      <th>max</th>\n",
              "      <td>77.00000</td>\n",
              "      <td>1.000000</td>\n",
              "      <td>3.000000</td>\n",
              "      <td>200.000000</td>\n",
              "      <td>564.000000</td>\n",
              "      <td>1.000000</td>\n",
              "      <td>2.000000</td>\n",
              "      <td>202.000000</td>\n",
              "      <td>1.000000</td>\n",
              "      <td>6.200000</td>\n",
              "      <td>2.000000</td>\n",
              "      <td>4.000000</td>\n",
              "      <td>3.000000</td>\n",
              "      <td>1.000000</td>\n",
              "    </tr>\n",
              "  </tbody>\n",
              "</table>\n",
              "</div>\n",
              "      <button class=\"colab-df-convert\" onclick=\"convertToInteractive('df-f380c53d-7a15-4430-b68a-9813137c06b0')\"\n",
              "              title=\"Convert this dataframe to an interactive table.\"\n",
              "              style=\"display:none;\">\n",
              "        \n",
              "  <svg xmlns=\"http://www.w3.org/2000/svg\" height=\"24px\"viewBox=\"0 0 24 24\"\n",
              "       width=\"24px\">\n",
              "    <path d=\"M0 0h24v24H0V0z\" fill=\"none\"/>\n",
              "    <path d=\"M18.56 5.44l.94 2.06.94-2.06 2.06-.94-2.06-.94-.94-2.06-.94 2.06-2.06.94zm-11 1L8.5 8.5l.94-2.06 2.06-.94-2.06-.94L8.5 2.5l-.94 2.06-2.06.94zm10 10l.94 2.06.94-2.06 2.06-.94-2.06-.94-.94-2.06-.94 2.06-2.06.94z\"/><path d=\"M17.41 7.96l-1.37-1.37c-.4-.4-.92-.59-1.43-.59-.52 0-1.04.2-1.43.59L10.3 9.45l-7.72 7.72c-.78.78-.78 2.05 0 2.83L4 21.41c.39.39.9.59 1.41.59.51 0 1.02-.2 1.41-.59l7.78-7.78 2.81-2.81c.8-.78.8-2.07 0-2.86zM5.41 20L4 18.59l7.72-7.72 1.47 1.35L5.41 20z\"/>\n",
              "  </svg>\n",
              "      </button>\n",
              "      \n",
              "  <style>\n",
              "    .colab-df-container {\n",
              "      display:flex;\n",
              "      flex-wrap:wrap;\n",
              "      gap: 12px;\n",
              "    }\n",
              "\n",
              "    .colab-df-convert {\n",
              "      background-color: #E8F0FE;\n",
              "      border: none;\n",
              "      border-radius: 50%;\n",
              "      cursor: pointer;\n",
              "      display: none;\n",
              "      fill: #1967D2;\n",
              "      height: 32px;\n",
              "      padding: 0 0 0 0;\n",
              "      width: 32px;\n",
              "    }\n",
              "\n",
              "    .colab-df-convert:hover {\n",
              "      background-color: #E2EBFA;\n",
              "      box-shadow: 0px 1px 2px rgba(60, 64, 67, 0.3), 0px 1px 3px 1px rgba(60, 64, 67, 0.15);\n",
              "      fill: #174EA6;\n",
              "    }\n",
              "\n",
              "    [theme=dark] .colab-df-convert {\n",
              "      background-color: #3B4455;\n",
              "      fill: #D2E3FC;\n",
              "    }\n",
              "\n",
              "    [theme=dark] .colab-df-convert:hover {\n",
              "      background-color: #434B5C;\n",
              "      box-shadow: 0px 1px 3px 1px rgba(0, 0, 0, 0.15);\n",
              "      filter: drop-shadow(0px 1px 2px rgba(0, 0, 0, 0.3));\n",
              "      fill: #FFFFFF;\n",
              "    }\n",
              "  </style>\n",
              "\n",
              "      <script>\n",
              "        const buttonEl =\n",
              "          document.querySelector('#df-f380c53d-7a15-4430-b68a-9813137c06b0 button.colab-df-convert');\n",
              "        buttonEl.style.display =\n",
              "          google.colab.kernel.accessAllowed ? 'block' : 'none';\n",
              "\n",
              "        async function convertToInteractive(key) {\n",
              "          const element = document.querySelector('#df-f380c53d-7a15-4430-b68a-9813137c06b0');\n",
              "          const dataTable =\n",
              "            await google.colab.kernel.invokeFunction('convertToInteractive',\n",
              "                                                     [key], {});\n",
              "          if (!dataTable) return;\n",
              "\n",
              "          const docLinkHtml = 'Like what you see? Visit the ' +\n",
              "            '<a target=\"_blank\" href=https://colab.research.google.com/notebooks/data_table.ipynb>data table notebook</a>'\n",
              "            + ' to learn more about interactive tables.';\n",
              "          element.innerHTML = '';\n",
              "          dataTable['output_type'] = 'display_data';\n",
              "          await google.colab.output.renderOutput(dataTable, element);\n",
              "          const docLink = document.createElement('div');\n",
              "          docLink.innerHTML = docLinkHtml;\n",
              "          element.appendChild(docLink);\n",
              "        }\n",
              "      </script>\n",
              "    </div>\n",
              "  </div>\n",
              "  "
            ]
          },
          "metadata": {},
          "execution_count": 13
        }
      ],
      "source": [
        "dataset.describe()"
      ]
    },
    {
      "cell_type": "markdown",
      "source": [
        "**Tespitler_1:** \n",
        "1. Chol sütununda verilerin aykırı şekilde dağılımı söz konusudur.\n",
        "2. Fa_bloodSu veri de özel olarak incelenmelidir. \n",
        "3. oldpeak verisinde düzensiz bir dağılım görülmektedir."
      ],
      "metadata": {
        "id": "4jmvoU2JLfka"
      }
    },
    {
      "cell_type": "markdown",
      "source": [
        "**2.2 Veri Setinin Korelasyon Durumu**"
      ],
      "metadata": {
        "id": "pcEhdl2XV4HI"
      }
    },
    {
      "cell_type": "code",
      "execution_count": null,
      "metadata": {
        "id": "NDLpCJd_kZKH",
        "colab": {
          "base_uri": "https://localhost:8080/",
          "height": 488
        },
        "outputId": "f3e120a6-7ab6-4d83-e0e2-86295d4f99d3"
      },
      "outputs": [
        {
          "output_type": "execute_result",
          "data": {
            "text/plain": [
              "                   Age    Gender  ChestPainTp  RestbloodPr      Chol  \\\n",
              "Age           1.000000 -0.094962    -0.063107     0.283121  0.207216   \n",
              "Gender       -0.094962  1.000000    -0.051740    -0.057647 -0.195571   \n",
              "ChestPainTp  -0.063107 -0.051740     1.000000     0.046486 -0.072682   \n",
              "RestbloodPr   0.283121 -0.057647     0.046486     1.000000  0.125256   \n",
              "Chol          0.207216 -0.195571    -0.072682     0.125256  1.000000   \n",
              "Fa_bloodSu    0.119492  0.046022     0.096018     0.178125  0.011428   \n",
              "rest_ecg     -0.111590 -0.060351     0.041561    -0.115367 -0.147602   \n",
              "MaxHeartRate -0.395235 -0.046439     0.293367    -0.048023 -0.005308   \n",
              "Ex_In_An      0.093216  0.143460    -0.392937     0.068526  0.064099   \n",
              "oldpeak       0.206040  0.098322    -0.146692     0.194600  0.050086   \n",
              "slope        -0.164124 -0.032990     0.116854    -0.122873  0.000417   \n",
              "NumMajVest    0.302261  0.113060    -0.195356     0.099248  0.086878   \n",
              "ThallTest     0.065317  0.211452    -0.160370     0.062870  0.096810   \n",
              "output       -0.221476 -0.283609     0.432080    -0.146269 -0.081437   \n",
              "\n",
              "              Fa_bloodSu  rest_ecg  MaxHeartRate  Ex_In_An   oldpeak  \\\n",
              "Age             0.119492 -0.111590     -0.395235  0.093216  0.206040   \n",
              "Gender          0.046022 -0.060351     -0.046439  0.143460  0.098322   \n",
              "ChestPainTp     0.096018  0.041561      0.293367 -0.392937 -0.146692   \n",
              "RestbloodPr     0.178125 -0.115367     -0.048023  0.068526  0.194600   \n",
              "Chol            0.011428 -0.147602     -0.005308  0.064099  0.050086   \n",
              "Fa_bloodSu      1.000000 -0.083081     -0.007169  0.024729  0.004514   \n",
              "rest_ecg       -0.083081  1.000000      0.041210 -0.068807 -0.056251   \n",
              "MaxHeartRate   -0.007169  0.041210      1.000000 -0.377411 -0.342201   \n",
              "Ex_In_An        0.024729 -0.068807     -0.377411  1.000000  0.286766   \n",
              "oldpeak         0.004514 -0.056251     -0.342201  0.286766  1.000000   \n",
              "slope          -0.058654  0.090402      0.384754 -0.256106 -0.576314   \n",
              "NumMajVest      0.144935 -0.083112     -0.228311  0.125377  0.236560   \n",
              "ThallTest      -0.032752 -0.010473     -0.094910  0.205826  0.209090   \n",
              "output         -0.026826  0.134874      0.419955 -0.435601 -0.429146   \n",
              "\n",
              "                 slope  NumMajVest  ThallTest    output  \n",
              "Age          -0.164124    0.302261   0.065317 -0.221476  \n",
              "Gender       -0.032990    0.113060   0.211452 -0.283609  \n",
              "ChestPainTp   0.116854   -0.195356  -0.160370  0.432080  \n",
              "RestbloodPr  -0.122873    0.099248   0.062870 -0.146269  \n",
              "Chol          0.000417    0.086878   0.096810 -0.081437  \n",
              "Fa_bloodSu   -0.058654    0.144935  -0.032752 -0.026826  \n",
              "rest_ecg      0.090402   -0.083112  -0.010473  0.134874  \n",
              "MaxHeartRate  0.384754   -0.228311  -0.094910  0.419955  \n",
              "Ex_In_An     -0.256106    0.125377   0.205826 -0.435601  \n",
              "oldpeak      -0.576314    0.236560   0.209090 -0.429146  \n",
              "slope         1.000000   -0.092236  -0.103314  0.343940  \n",
              "NumMajVest   -0.092236    1.000000   0.160085 -0.408992  \n",
              "ThallTest    -0.103314    0.160085   1.000000 -0.343101  \n",
              "output        0.343940   -0.408992  -0.343101  1.000000  "
            ],
            "text/html": [
              "\n",
              "  <div id=\"df-2832c8db-44eb-4909-996e-274755421dd2\">\n",
              "    <div class=\"colab-df-container\">\n",
              "      <div>\n",
              "<style scoped>\n",
              "    .dataframe tbody tr th:only-of-type {\n",
              "        vertical-align: middle;\n",
              "    }\n",
              "\n",
              "    .dataframe tbody tr th {\n",
              "        vertical-align: top;\n",
              "    }\n",
              "\n",
              "    .dataframe thead th {\n",
              "        text-align: right;\n",
              "    }\n",
              "</style>\n",
              "<table border=\"1\" class=\"dataframe\">\n",
              "  <thead>\n",
              "    <tr style=\"text-align: right;\">\n",
              "      <th></th>\n",
              "      <th>Age</th>\n",
              "      <th>Gender</th>\n",
              "      <th>ChestPainTp</th>\n",
              "      <th>RestbloodPr</th>\n",
              "      <th>Chol</th>\n",
              "      <th>Fa_bloodSu</th>\n",
              "      <th>rest_ecg</th>\n",
              "      <th>MaxHeartRate</th>\n",
              "      <th>Ex_In_An</th>\n",
              "      <th>oldpeak</th>\n",
              "      <th>slope</th>\n",
              "      <th>NumMajVest</th>\n",
              "      <th>ThallTest</th>\n",
              "      <th>output</th>\n",
              "    </tr>\n",
              "  </thead>\n",
              "  <tbody>\n",
              "    <tr>\n",
              "      <th>Age</th>\n",
              "      <td>1.000000</td>\n",
              "      <td>-0.094962</td>\n",
              "      <td>-0.063107</td>\n",
              "      <td>0.283121</td>\n",
              "      <td>0.207216</td>\n",
              "      <td>0.119492</td>\n",
              "      <td>-0.111590</td>\n",
              "      <td>-0.395235</td>\n",
              "      <td>0.093216</td>\n",
              "      <td>0.206040</td>\n",
              "      <td>-0.164124</td>\n",
              "      <td>0.302261</td>\n",
              "      <td>0.065317</td>\n",
              "      <td>-0.221476</td>\n",
              "    </tr>\n",
              "    <tr>\n",
              "      <th>Gender</th>\n",
              "      <td>-0.094962</td>\n",
              "      <td>1.000000</td>\n",
              "      <td>-0.051740</td>\n",
              "      <td>-0.057647</td>\n",
              "      <td>-0.195571</td>\n",
              "      <td>0.046022</td>\n",
              "      <td>-0.060351</td>\n",
              "      <td>-0.046439</td>\n",
              "      <td>0.143460</td>\n",
              "      <td>0.098322</td>\n",
              "      <td>-0.032990</td>\n",
              "      <td>0.113060</td>\n",
              "      <td>0.211452</td>\n",
              "      <td>-0.283609</td>\n",
              "    </tr>\n",
              "    <tr>\n",
              "      <th>ChestPainTp</th>\n",
              "      <td>-0.063107</td>\n",
              "      <td>-0.051740</td>\n",
              "      <td>1.000000</td>\n",
              "      <td>0.046486</td>\n",
              "      <td>-0.072682</td>\n",
              "      <td>0.096018</td>\n",
              "      <td>0.041561</td>\n",
              "      <td>0.293367</td>\n",
              "      <td>-0.392937</td>\n",
              "      <td>-0.146692</td>\n",
              "      <td>0.116854</td>\n",
              "      <td>-0.195356</td>\n",
              "      <td>-0.160370</td>\n",
              "      <td>0.432080</td>\n",
              "    </tr>\n",
              "    <tr>\n",
              "      <th>RestbloodPr</th>\n",
              "      <td>0.283121</td>\n",
              "      <td>-0.057647</td>\n",
              "      <td>0.046486</td>\n",
              "      <td>1.000000</td>\n",
              "      <td>0.125256</td>\n",
              "      <td>0.178125</td>\n",
              "      <td>-0.115367</td>\n",
              "      <td>-0.048023</td>\n",
              "      <td>0.068526</td>\n",
              "      <td>0.194600</td>\n",
              "      <td>-0.122873</td>\n",
              "      <td>0.099248</td>\n",
              "      <td>0.062870</td>\n",
              "      <td>-0.146269</td>\n",
              "    </tr>\n",
              "    <tr>\n",
              "      <th>Chol</th>\n",
              "      <td>0.207216</td>\n",
              "      <td>-0.195571</td>\n",
              "      <td>-0.072682</td>\n",
              "      <td>0.125256</td>\n",
              "      <td>1.000000</td>\n",
              "      <td>0.011428</td>\n",
              "      <td>-0.147602</td>\n",
              "      <td>-0.005308</td>\n",
              "      <td>0.064099</td>\n",
              "      <td>0.050086</td>\n",
              "      <td>0.000417</td>\n",
              "      <td>0.086878</td>\n",
              "      <td>0.096810</td>\n",
              "      <td>-0.081437</td>\n",
              "    </tr>\n",
              "    <tr>\n",
              "      <th>Fa_bloodSu</th>\n",
              "      <td>0.119492</td>\n",
              "      <td>0.046022</td>\n",
              "      <td>0.096018</td>\n",
              "      <td>0.178125</td>\n",
              "      <td>0.011428</td>\n",
              "      <td>1.000000</td>\n",
              "      <td>-0.083081</td>\n",
              "      <td>-0.007169</td>\n",
              "      <td>0.024729</td>\n",
              "      <td>0.004514</td>\n",
              "      <td>-0.058654</td>\n",
              "      <td>0.144935</td>\n",
              "      <td>-0.032752</td>\n",
              "      <td>-0.026826</td>\n",
              "    </tr>\n",
              "    <tr>\n",
              "      <th>rest_ecg</th>\n",
              "      <td>-0.111590</td>\n",
              "      <td>-0.060351</td>\n",
              "      <td>0.041561</td>\n",
              "      <td>-0.115367</td>\n",
              "      <td>-0.147602</td>\n",
              "      <td>-0.083081</td>\n",
              "      <td>1.000000</td>\n",
              "      <td>0.041210</td>\n",
              "      <td>-0.068807</td>\n",
              "      <td>-0.056251</td>\n",
              "      <td>0.090402</td>\n",
              "      <td>-0.083112</td>\n",
              "      <td>-0.010473</td>\n",
              "      <td>0.134874</td>\n",
              "    </tr>\n",
              "    <tr>\n",
              "      <th>MaxHeartRate</th>\n",
              "      <td>-0.395235</td>\n",
              "      <td>-0.046439</td>\n",
              "      <td>0.293367</td>\n",
              "      <td>-0.048023</td>\n",
              "      <td>-0.005308</td>\n",
              "      <td>-0.007169</td>\n",
              "      <td>0.041210</td>\n",
              "      <td>1.000000</td>\n",
              "      <td>-0.377411</td>\n",
              "      <td>-0.342201</td>\n",
              "      <td>0.384754</td>\n",
              "      <td>-0.228311</td>\n",
              "      <td>-0.094910</td>\n",
              "      <td>0.419955</td>\n",
              "    </tr>\n",
              "    <tr>\n",
              "      <th>Ex_In_An</th>\n",
              "      <td>0.093216</td>\n",
              "      <td>0.143460</td>\n",
              "      <td>-0.392937</td>\n",
              "      <td>0.068526</td>\n",
              "      <td>0.064099</td>\n",
              "      <td>0.024729</td>\n",
              "      <td>-0.068807</td>\n",
              "      <td>-0.377411</td>\n",
              "      <td>1.000000</td>\n",
              "      <td>0.286766</td>\n",
              "      <td>-0.256106</td>\n",
              "      <td>0.125377</td>\n",
              "      <td>0.205826</td>\n",
              "      <td>-0.435601</td>\n",
              "    </tr>\n",
              "    <tr>\n",
              "      <th>oldpeak</th>\n",
              "      <td>0.206040</td>\n",
              "      <td>0.098322</td>\n",
              "      <td>-0.146692</td>\n",
              "      <td>0.194600</td>\n",
              "      <td>0.050086</td>\n",
              "      <td>0.004514</td>\n",
              "      <td>-0.056251</td>\n",
              "      <td>-0.342201</td>\n",
              "      <td>0.286766</td>\n",
              "      <td>1.000000</td>\n",
              "      <td>-0.576314</td>\n",
              "      <td>0.236560</td>\n",
              "      <td>0.209090</td>\n",
              "      <td>-0.429146</td>\n",
              "    </tr>\n",
              "    <tr>\n",
              "      <th>slope</th>\n",
              "      <td>-0.164124</td>\n",
              "      <td>-0.032990</td>\n",
              "      <td>0.116854</td>\n",
              "      <td>-0.122873</td>\n",
              "      <td>0.000417</td>\n",
              "      <td>-0.058654</td>\n",
              "      <td>0.090402</td>\n",
              "      <td>0.384754</td>\n",
              "      <td>-0.256106</td>\n",
              "      <td>-0.576314</td>\n",
              "      <td>1.000000</td>\n",
              "      <td>-0.092236</td>\n",
              "      <td>-0.103314</td>\n",
              "      <td>0.343940</td>\n",
              "    </tr>\n",
              "    <tr>\n",
              "      <th>NumMajVest</th>\n",
              "      <td>0.302261</td>\n",
              "      <td>0.113060</td>\n",
              "      <td>-0.195356</td>\n",
              "      <td>0.099248</td>\n",
              "      <td>0.086878</td>\n",
              "      <td>0.144935</td>\n",
              "      <td>-0.083112</td>\n",
              "      <td>-0.228311</td>\n",
              "      <td>0.125377</td>\n",
              "      <td>0.236560</td>\n",
              "      <td>-0.092236</td>\n",
              "      <td>1.000000</td>\n",
              "      <td>0.160085</td>\n",
              "      <td>-0.408992</td>\n",
              "    </tr>\n",
              "    <tr>\n",
              "      <th>ThallTest</th>\n",
              "      <td>0.065317</td>\n",
              "      <td>0.211452</td>\n",
              "      <td>-0.160370</td>\n",
              "      <td>0.062870</td>\n",
              "      <td>0.096810</td>\n",
              "      <td>-0.032752</td>\n",
              "      <td>-0.010473</td>\n",
              "      <td>-0.094910</td>\n",
              "      <td>0.205826</td>\n",
              "      <td>0.209090</td>\n",
              "      <td>-0.103314</td>\n",
              "      <td>0.160085</td>\n",
              "      <td>1.000000</td>\n",
              "      <td>-0.343101</td>\n",
              "    </tr>\n",
              "    <tr>\n",
              "      <th>output</th>\n",
              "      <td>-0.221476</td>\n",
              "      <td>-0.283609</td>\n",
              "      <td>0.432080</td>\n",
              "      <td>-0.146269</td>\n",
              "      <td>-0.081437</td>\n",
              "      <td>-0.026826</td>\n",
              "      <td>0.134874</td>\n",
              "      <td>0.419955</td>\n",
              "      <td>-0.435601</td>\n",
              "      <td>-0.429146</td>\n",
              "      <td>0.343940</td>\n",
              "      <td>-0.408992</td>\n",
              "      <td>-0.343101</td>\n",
              "      <td>1.000000</td>\n",
              "    </tr>\n",
              "  </tbody>\n",
              "</table>\n",
              "</div>\n",
              "      <button class=\"colab-df-convert\" onclick=\"convertToInteractive('df-2832c8db-44eb-4909-996e-274755421dd2')\"\n",
              "              title=\"Convert this dataframe to an interactive table.\"\n",
              "              style=\"display:none;\">\n",
              "        \n",
              "  <svg xmlns=\"http://www.w3.org/2000/svg\" height=\"24px\"viewBox=\"0 0 24 24\"\n",
              "       width=\"24px\">\n",
              "    <path d=\"M0 0h24v24H0V0z\" fill=\"none\"/>\n",
              "    <path d=\"M18.56 5.44l.94 2.06.94-2.06 2.06-.94-2.06-.94-.94-2.06-.94 2.06-2.06.94zm-11 1L8.5 8.5l.94-2.06 2.06-.94-2.06-.94L8.5 2.5l-.94 2.06-2.06.94zm10 10l.94 2.06.94-2.06 2.06-.94-2.06-.94-.94-2.06-.94 2.06-2.06.94z\"/><path d=\"M17.41 7.96l-1.37-1.37c-.4-.4-.92-.59-1.43-.59-.52 0-1.04.2-1.43.59L10.3 9.45l-7.72 7.72c-.78.78-.78 2.05 0 2.83L4 21.41c.39.39.9.59 1.41.59.51 0 1.02-.2 1.41-.59l7.78-7.78 2.81-2.81c.8-.78.8-2.07 0-2.86zM5.41 20L4 18.59l7.72-7.72 1.47 1.35L5.41 20z\"/>\n",
              "  </svg>\n",
              "      </button>\n",
              "      \n",
              "  <style>\n",
              "    .colab-df-container {\n",
              "      display:flex;\n",
              "      flex-wrap:wrap;\n",
              "      gap: 12px;\n",
              "    }\n",
              "\n",
              "    .colab-df-convert {\n",
              "      background-color: #E8F0FE;\n",
              "      border: none;\n",
              "      border-radius: 50%;\n",
              "      cursor: pointer;\n",
              "      display: none;\n",
              "      fill: #1967D2;\n",
              "      height: 32px;\n",
              "      padding: 0 0 0 0;\n",
              "      width: 32px;\n",
              "    }\n",
              "\n",
              "    .colab-df-convert:hover {\n",
              "      background-color: #E2EBFA;\n",
              "      box-shadow: 0px 1px 2px rgba(60, 64, 67, 0.3), 0px 1px 3px 1px rgba(60, 64, 67, 0.15);\n",
              "      fill: #174EA6;\n",
              "    }\n",
              "\n",
              "    [theme=dark] .colab-df-convert {\n",
              "      background-color: #3B4455;\n",
              "      fill: #D2E3FC;\n",
              "    }\n",
              "\n",
              "    [theme=dark] .colab-df-convert:hover {\n",
              "      background-color: #434B5C;\n",
              "      box-shadow: 0px 1px 3px 1px rgba(0, 0, 0, 0.15);\n",
              "      filter: drop-shadow(0px 1px 2px rgba(0, 0, 0, 0.3));\n",
              "      fill: #FFFFFF;\n",
              "    }\n",
              "  </style>\n",
              "\n",
              "      <script>\n",
              "        const buttonEl =\n",
              "          document.querySelector('#df-2832c8db-44eb-4909-996e-274755421dd2 button.colab-df-convert');\n",
              "        buttonEl.style.display =\n",
              "          google.colab.kernel.accessAllowed ? 'block' : 'none';\n",
              "\n",
              "        async function convertToInteractive(key) {\n",
              "          const element = document.querySelector('#df-2832c8db-44eb-4909-996e-274755421dd2');\n",
              "          const dataTable =\n",
              "            await google.colab.kernel.invokeFunction('convertToInteractive',\n",
              "                                                     [key], {});\n",
              "          if (!dataTable) return;\n",
              "\n",
              "          const docLinkHtml = 'Like what you see? Visit the ' +\n",
              "            '<a target=\"_blank\" href=https://colab.research.google.com/notebooks/data_table.ipynb>data table notebook</a>'\n",
              "            + ' to learn more about interactive tables.';\n",
              "          element.innerHTML = '';\n",
              "          dataTable['output_type'] = 'display_data';\n",
              "          await google.colab.output.renderOutput(dataTable, element);\n",
              "          const docLink = document.createElement('div');\n",
              "          docLink.innerHTML = docLinkHtml;\n",
              "          element.appendChild(docLink);\n",
              "        }\n",
              "      </script>\n",
              "    </div>\n",
              "  </div>\n",
              "  "
            ]
          },
          "metadata": {},
          "execution_count": 14
        }
      ],
      "source": [
        "corr = dataset.corr()\n",
        "corr"
      ]
    },
    {
      "cell_type": "markdown",
      "source": [
        "**2.3 Veri Setinin Görselleştirilmesi**"
      ],
      "metadata": {
        "id": "KogBIAyWWurn"
      }
    },
    {
      "cell_type": "markdown",
      "source": [
        "**2.3.1 Heat Map/Seaborn İle Mukayeseli İlişki Matrisi**"
      ],
      "metadata": {
        "id": "Sl8gbbslt7mZ"
      }
    },
    {
      "cell_type": "code",
      "execution_count": null,
      "metadata": {
        "id": "1BHrTf9DkeIo",
        "colab": {
          "base_uri": "https://localhost:8080/",
          "height": 886
        },
        "outputId": "316177b1-ddf3-4bc1-cdc8-87c75e91651e"
      },
      "outputs": [
        {
          "output_type": "execute_result",
          "data": {
            "text/plain": [
              "<AxesSubplot:>"
            ]
          },
          "metadata": {},
          "execution_count": 15
        },
        {
          "output_type": "display_data",
          "data": {
            "text/plain": [
              "<Figure size 1440x1080 with 2 Axes>"
            ],
            "image/png": "[encoded data removed]"
          },
          "metadata": {
            "needs_background": "light"
          }
        }
      ],
      "source": [
        "import seaborn as sns\n",
        "import matplotlib.pyplot as plt\n",
        "plt.subplots(figsize=(20,15))\n",
        "sns.heatmap(corr,annot=True)\n"
      ]
    },
    {
      "cell_type": "markdown",
      "source": [
        "**TESPİTLER_2:**\n",
        "1. Age, verisinin kalp rahatsızlığıyla ters ilişkili olduğu görülmektedir. Böyle bir sonucun çıkması muhtemelen örneklem kümesinin az olması ve bu küme içerisinde nispeten genç yaştaki kalp rahatsızlığı olanların fazlalığından kaynaklanmaktadır.\n",
        "2. Erkeklerdeki kalp krizi kadınlara göre oldukça fazla olduğu tespit edilmiştir.\n",
        "3. Chol verisinin kalp krizi ile doğrudan ilişkisinin düşük olduğu (-0,081) ancak kalp krizi ile doğrudan ilişkisi olan yaş (0,21) ve cinsiyet(-0,2) ile ilişkili olduğu, dolayısıyla değerlendirmeye alınması uygun görülmektedir. \n",
        "4. Fa_bloodSu verisi kalp krizi ile doğrudan veya dolaylı ilişkisinin çok düşük olduğundan dikkate alınmamasına karar verilmiştir.\n",
        "\n"
      ],
      "metadata": {
        "id": "KoDrHBVCfc8n"
      }
    },
    {
      "cell_type": "markdown",
      "source": [
        "**2.3.2 Histogram Grafikleri**"
      ],
      "metadata": {
        "id": "v5hI4XqBXtyS"
      }
    },
    {
      "cell_type": "code",
      "execution_count": null,
      "metadata": {
        "id": "yS2BI8xBkjDr",
        "colab": {
          "base_uri": "https://localhost:8080/",
          "height": 876
        },
        "outputId": "74108214-0109-4dce-e317-c9feb59e304a"
      },
      "outputs": [
        {
          "output_type": "display_data",
          "data": {
            "text/plain": [
              "<Figure size 2520x1368 with 16 Axes>"
            ],
            "image/png": "[encoded data removed]"
          },
          "metadata": {
            "needs_background": "light"
          }
        }
      ],
      "source": [
        "dataset.hist(bins=20, figsize=(35, 19))\n",
        "plt.show()"
      ]
    },
    {
      "cell_type": "markdown",
      "source": [
        "**TESPİTLER_3:** \n",
        "1. Age grafiğinde 30 altı değerleri,\n",
        "2. RestbloodPr grafiğinde 180 ve üzeri değeri,\n",
        "3. Chol grafiğinde 370 ve üzeri değerleri, \n",
        "4. MaxHeartRate grafiğinde 80 ve 200 değeri,\n",
        "5. Oldpeak grafiğinde 6 değeri ayrık veri olarak kabul edilmiş, ayrık veriler ortalama veri esas alınarak diğer verilerin üzerine dağıtılacaktır.\n",
        "6. Fa_bloodSu verisi heatmap'teki tespitten dolayı silinecektir."
      ],
      "metadata": {
        "id": "hEX1QcFEfvdk"
      }
    },
    {
      "cell_type": "markdown",
      "source": [
        "**2.3.3 Ayrık Verilerin Düzenlenmesi ve Özellik Seçimi**"
      ],
      "metadata": {
        "id": "z6_G0IG6AtlC"
      }
    },
    {
      "cell_type": "code",
      "source": [
        "mean_Age = dataset[\"Age\"].mean()\n",
        "dataset['Age'] = dataset['Age'].mask(dataset['Age'] < 30, mean_Age)"
      ],
      "metadata": {
        "id": "PbNSFtHHNMkt"
      },
      "execution_count": null,
      "outputs": []
    },
    {
      "cell_type": "code",
      "source": [
        "dataset[\"Age\"].hist()"
      ],
      "metadata": {
        "id": "Qe3rLwdVNRqY",
        "colab": {
          "base_uri": "https://localhost:8080/",
          "height": 283
        },
        "outputId": "591066dc-ccb2-404b-d73f-be4ec4ea0fa8"
      },
      "execution_count": null,
      "outputs": [
        {
          "output_type": "execute_result",
          "data": {
            "text/plain": [
              "<AxesSubplot:>"
            ]
          },
          "metadata": {},
          "execution_count": 18
        },
        {
          "output_type": "display_data",
          "data": {
            "text/plain": [
              "<Figure size 432x288 with 1 Axes>"
            ],
            "image/png": "[encoded data removed]"
          },
          "metadata": {
            "needs_background": "light"
          }
        }
      ]
    },
    {
      "cell_type": "code",
      "source": [
        "mean_RestbloodPr = dataset[\"RestbloodPr\"].mean()\n",
        "dataset['RestbloodPr'] = dataset['RestbloodPr'].mask(dataset['RestbloodPr'] > 180, mean_RestbloodPr)"
      ],
      "metadata": {
        "id": "wbdTvdOVOZrN"
      },
      "execution_count": null,
      "outputs": []
    },
    {
      "cell_type": "code",
      "source": [
        "dataset[\"RestbloodPr\"].hist()"
      ],
      "metadata": {
        "id": "Urpqt6x4Peii",
        "colab": {
          "base_uri": "https://localhost:8080/",
          "height": 283
        },
        "outputId": "752ac58f-e2b9-4d99-c06d-23481eb722b7"
      },
      "execution_count": null,
      "outputs": [
        {
          "output_type": "execute_result",
          "data": {
            "text/plain": [
              "<AxesSubplot:>"
            ]
          },
          "metadata": {},
          "execution_count": 20
        },
        {
          "output_type": "display_data",
          "data": {
            "text/plain": [
              "<Figure size 432x288 with 1 Axes>"
            ],
            "image/png": "[encoded data removed]"
          },
          "metadata": {
            "needs_background": "light"
          }
        }
      ]
    },
    {
      "cell_type": "code",
      "source": [
        "mean_Chol = dataset[\"Chol\"].mean()\n",
        "dataset['Chol'] = dataset['Chol'].mask(dataset['Chol'] >= 370, mean_Chol)"
      ],
      "metadata": {
        "id": "AYUBlGkOP2C6"
      },
      "execution_count": null,
      "outputs": []
    },
    {
      "cell_type": "code",
      "source": [
        "dataset[\"Chol\"].hist()"
      ],
      "metadata": {
        "id": "mbh5SAXTP5EJ",
        "colab": {
          "base_uri": "https://localhost:8080/",
          "height": 283
        },
        "outputId": "7c28b463-df79-4ebd-f4c4-cfe8650ffea7"
      },
      "execution_count": null,
      "outputs": [
        {
          "output_type": "execute_result",
          "data": {
            "text/plain": [
              "<AxesSubplot:>"
            ]
          },
          "metadata": {},
          "execution_count": 22
        },
        {
          "output_type": "display_data",
          "data": {
            "text/plain": [
              "<Figure size 432x288 with 1 Axes>"
            ],
            "image/png": "[encoded data removed]"
          },
          "metadata": {
            "needs_background": "light"
          }
        }
      ]
    },
    {
      "cell_type": "code",
      "source": [
        "mean_MaxHeartRate = dataset[\"MaxHeartRate\"].mean()\n",
        "dataset['MaxHeartRate'] = dataset['MaxHeartRate'].mask(dataset['MaxHeartRate'] < 90, mean_MaxHeartRate)"
      ],
      "metadata": {
        "id": "fyN4piLHQ4cR"
      },
      "execution_count": null,
      "outputs": []
    },
    {
      "cell_type": "code",
      "source": [
        "dataset[\"MaxHeartRate\"].hist()"
      ],
      "metadata": {
        "id": "FxXA41esQ64G",
        "colab": {
          "base_uri": "https://localhost:8080/",
          "height": 283
        },
        "outputId": "a40fb0db-f97e-4f77-b4d4-7ba98dcd2c3e"
      },
      "execution_count": null,
      "outputs": [
        {
          "output_type": "execute_result",
          "data": {
            "text/plain": [
              "<AxesSubplot:>"
            ]
          },
          "metadata": {},
          "execution_count": 24
        },
        {
          "output_type": "display_data",
          "data": {
            "text/plain": [
              "<Figure size 432x288 with 1 Axes>"
            ],
            "image/png": "[encoded data removed]"
          },
          "metadata": {
            "needs_background": "light"
          }
        }
      ]
    },
    {
      "cell_type": "code",
      "source": [
        "mean_oldpeak = dataset[\"oldpeak\"].mean()\n",
        "dataset['oldpeak'] = dataset['oldpeak'].mask(dataset['oldpeak'] >= 5, mean_oldpeak)"
      ],
      "metadata": {
        "id": "GtaruXpCSzKU"
      },
      "execution_count": null,
      "outputs": []
    },
    {
      "cell_type": "code",
      "source": [
        "dataset[\"oldpeak\"].hist()"
      ],
      "metadata": {
        "id": "Tt6QT1g1S1li",
        "colab": {
          "base_uri": "https://localhost:8080/",
          "height": 283
        },
        "outputId": "55cfbad8-a27a-4cc9-97d0-f48a412d138a"
      },
      "execution_count": null,
      "outputs": [
        {
          "output_type": "execute_result",
          "data": {
            "text/plain": [
              "<AxesSubplot:>"
            ]
          },
          "metadata": {},
          "execution_count": 26
        },
        {
          "output_type": "display_data",
          "data": {
            "text/plain": [
              "<Figure size 432x288 with 1 Axes>"
            ],
            "image/png": "[encoded data removed]"
          },
          "metadata": {
            "needs_background": "light"
          }
        }
      ]
    },
    {
      "cell_type": "code",
      "source": [
        "dataset = dataset.drop([\"Fa_bloodSu\"],axis=1)\n"
      ],
      "metadata": {
        "id": "ZZ5MZYPEXxmB"
      },
      "execution_count": null,
      "outputs": []
    },
    {
      "cell_type": "markdown",
      "source": [
        "**2.3.4 Seçilen Özelliklerin Son Görünümü**"
      ],
      "metadata": {
        "id": "LIRNboOeXV0J"
      }
    },
    {
      "cell_type": "code",
      "source": [
        "dataset.hist(bins=20, figsize=(35, 19))\n",
        "plt.show()"
      ],
      "metadata": {
        "id": "wD5uX7JwUywn",
        "colab": {
          "base_uri": "https://localhost:8080/",
          "height": 876
        },
        "outputId": "aaab094b-0dd0-4bcf-c10f-c2fe5b075ac7"
      },
      "execution_count": null,
      "outputs": [
        {
          "output_type": "display_data",
          "data": {
            "text/plain": [
              "<Figure size 2520x1368 with 16 Axes>"
            ],
            "image/png": "[encoded data removed]"
          },
          "metadata": {
            "needs_background": "light"
          }
        }
      ]
    },
    {
      "cell_type": "code",
      "source": [
        "corr = dataset.corr()\n",
        "corr"
      ],
      "metadata": {
        "colab": {
          "base_uri": "https://localhost:8080/",
          "height": 457
        },
        "id": "iC94somsValW",
        "outputId": "5b28ea21-c997-4f52-ba8f-aa9242ae2ad9"
      },
      "execution_count": null,
      "outputs": [
        {
          "output_type": "execute_result",
          "data": {
            "text/plain": [
              "                   Age    Gender  ChestPainTp  RestbloodPr      Chol  \\\n",
              "Age           1.000000 -0.089790    -0.063620     0.298318  0.163921   \n",
              "Gender       -0.089790  1.000000    -0.051740    -0.048765 -0.122459   \n",
              "ChestPainTp  -0.063620 -0.051740     1.000000     0.060980 -0.088076   \n",
              "RestbloodPr   0.298318 -0.048765     0.060980     1.000000  0.124783   \n",
              "Chol          0.163921 -0.122459    -0.088076     0.124783  1.000000   \n",
              "rest_ecg     -0.122555 -0.060351     0.041561    -0.095389 -0.099762   \n",
              "MaxHeartRate -0.372462 -0.033672     0.283540    -0.062824 -0.023373   \n",
              "Ex_In_An      0.087872  0.143460    -0.392937     0.060805  0.098363   \n",
              "oldpeak       0.199266  0.118164    -0.128530     0.157538  0.045228   \n",
              "slope        -0.157077 -0.032990     0.116854    -0.109781  0.025897   \n",
              "NumMajVest    0.299567  0.113060    -0.195356     0.083441  0.079441   \n",
              "ThallTest     0.061340  0.211452    -0.160370     0.037355  0.071110   \n",
              "output       -0.215786 -0.283609     0.432080    -0.125555 -0.111607   \n",
              "\n",
              "              rest_ecg  MaxHeartRate  Ex_In_An   oldpeak     slope  \\\n",
              "Age          -0.122555     -0.372462  0.087872  0.199266 -0.157077   \n",
              "Gender       -0.060351     -0.033672  0.143460  0.118164 -0.032990   \n",
              "ChestPainTp   0.041561      0.283540 -0.392937 -0.128530  0.116854   \n",
              "RestbloodPr  -0.095389     -0.062824  0.060805  0.157538 -0.109781   \n",
              "Chol         -0.099762     -0.023373  0.098363  0.045228  0.025897   \n",
              "rest_ecg      1.000000      0.061493 -0.068807 -0.056649  0.090402   \n",
              "MaxHeartRate  0.061493      1.000000 -0.385018 -0.347537  0.384044   \n",
              "Ex_In_An     -0.068807     -0.385018  1.000000  0.296357 -0.256106   \n",
              "oldpeak      -0.056649     -0.347537  0.296357  1.000000 -0.546388   \n",
              "slope         0.090402      0.384044 -0.256106 -0.546388  1.000000   \n",
              "NumMajVest   -0.083112     -0.241752  0.125377  0.226124 -0.092236   \n",
              "ThallTest    -0.010473     -0.093800  0.205826  0.189494 -0.103314   \n",
              "output        0.134874      0.411102 -0.435601 -0.424610  0.343940   \n",
              "\n",
              "              NumMajVest  ThallTest    output  \n",
              "Age             0.299567   0.061340 -0.215786  \n",
              "Gender          0.113060   0.211452 -0.283609  \n",
              "ChestPainTp    -0.195356  -0.160370  0.432080  \n",
              "RestbloodPr     0.083441   0.037355 -0.125555  \n",
              "Chol            0.079441   0.071110 -0.111607  \n",
              "rest_ecg       -0.083112  -0.010473  0.134874  \n",
              "MaxHeartRate   -0.241752  -0.093800  0.411102  \n",
              "Ex_In_An        0.125377   0.205826 -0.435601  \n",
              "oldpeak         0.226124   0.189494 -0.424610  \n",
              "slope          -0.092236  -0.103314  0.343940  \n",
              "NumMajVest      1.000000   0.160085 -0.408992  \n",
              "ThallTest       0.160085   1.000000 -0.343101  \n",
              "output         -0.408992  -0.343101  1.000000  "
            ],
            "text/html": [
              "\n",
              "  <div id=\"df-4bbbc7fd-d734-4cb1-92b8-bc6f8eaa453d\">\n",
              "    <div class=\"colab-df-container\">\n",
              "      <div>\n",
              "<style scoped>\n",
              "    .dataframe tbody tr th:only-of-type {\n",
              "        vertical-align: middle;\n",
              "    }\n",
              "\n",
              "    .dataframe tbody tr th {\n",
              "        vertical-align: top;\n",
              "    }\n",
              "\n",
              "    .dataframe thead th {\n",
              "        text-align: right;\n",
              "    }\n",
              "</style>\n",
              "<table border=\"1\" class=\"dataframe\">\n",
              "  <thead>\n",
              "    <tr style=\"text-align: right;\">\n",
              "      <th></th>\n",
              "      <th>Age</th>\n",
              "      <th>Gender</th>\n",
              "      <th>ChestPainTp</th>\n",
              "      <th>RestbloodPr</th>\n",
              "      <th>Chol</th>\n",
              "      <th>rest_ecg</th>\n",
              "      <th>MaxHeartRate</th>\n",
              "      <th>Ex_In_An</th>\n",
              "      <th>oldpeak</th>\n",
              "      <th>slope</th>\n",
              "      <th>NumMajVest</th>\n",
              "      <th>ThallTest</th>\n",
              "      <th>output</th>\n",
              "    </tr>\n",
              "  </thead>\n",
              "  <tbody>\n",
              "    <tr>\n",
              "      <th>Age</th>\n",
              "      <td>1.000000</td>\n",
              "      <td>-0.089790</td>\n",
              "      <td>-0.063620</td>\n",
              "      <td>0.298318</td>\n",
              "      <td>0.163921</td>\n",
              "      <td>-0.122555</td>\n",
              "      <td>-0.372462</td>\n",
              "      <td>0.087872</td>\n",
              "      <td>0.199266</td>\n",
              "      <td>-0.157077</td>\n",
              "      <td>0.299567</td>\n",
              "      <td>0.061340</td>\n",
              "      <td>-0.215786</td>\n",
              "    </tr>\n",
              "    <tr>\n",
              "      <th>Gender</th>\n",
              "      <td>-0.089790</td>\n",
              "      <td>1.000000</td>\n",
              "      <td>-0.051740</td>\n",
              "      <td>-0.048765</td>\n",
              "      <td>-0.122459</td>\n",
              "      <td>-0.060351</td>\n",
              "      <td>-0.033672</td>\n",
              "      <td>0.143460</td>\n",
              "      <td>0.118164</td>\n",
              "      <td>-0.032990</td>\n",
              "      <td>0.113060</td>\n",
              "      <td>0.211452</td>\n",
              "      <td>-0.283609</td>\n",
              "    </tr>\n",
              "    <tr>\n",
              "      <th>ChestPainTp</th>\n",
              "      <td>-0.063620</td>\n",
              "      <td>-0.051740</td>\n",
              "      <td>1.000000</td>\n",
              "      <td>0.060980</td>\n",
              "      <td>-0.088076</td>\n",
              "      <td>0.041561</td>\n",
              "      <td>0.283540</td>\n",
              "      <td>-0.392937</td>\n",
              "      <td>-0.128530</td>\n",
              "      <td>0.116854</td>\n",
              "      <td>-0.195356</td>\n",
              "      <td>-0.160370</td>\n",
              "      <td>0.432080</td>\n",
              "    </tr>\n",
              "    <tr>\n",
              "      <th>RestbloodPr</th>\n",
              "      <td>0.298318</td>\n",
              "      <td>-0.048765</td>\n",
              "      <td>0.060980</td>\n",
              "      <td>1.000000</td>\n",
              "      <td>0.124783</td>\n",
              "      <td>-0.095389</td>\n",
              "      <td>-0.062824</td>\n",
              "      <td>0.060805</td>\n",
              "      <td>0.157538</td>\n",
              "      <td>-0.109781</td>\n",
              "      <td>0.083441</td>\n",
              "      <td>0.037355</td>\n",
              "      <td>-0.125555</td>\n",
              "    </tr>\n",
              "    <tr>\n",
              "      <th>Chol</th>\n",
              "      <td>0.163921</td>\n",
              "      <td>-0.122459</td>\n",
              "      <td>-0.088076</td>\n",
              "      <td>0.124783</td>\n",
              "      <td>1.000000</td>\n",
              "      <td>-0.099762</td>\n",
              "      <td>-0.023373</td>\n",
              "      <td>0.098363</td>\n",
              "      <td>0.045228</td>\n",
              "      <td>0.025897</td>\n",
              "      <td>0.079441</td>\n",
              "      <td>0.071110</td>\n",
              "      <td>-0.111607</td>\n",
              "    </tr>\n",
              "    <tr>\n",
              "      <th>rest_ecg</th>\n",
              "      <td>-0.122555</td>\n",
              "      <td>-0.060351</td>\n",
              "      <td>0.041561</td>\n",
              "      <td>-0.095389</td>\n",
              "      <td>-0.099762</td>\n",
              "      <td>1.000000</td>\n",
              "      <td>0.061493</td>\n",
              "      <td>-0.068807</td>\n",
              "      <td>-0.056649</td>\n",
              "      <td>0.090402</td>\n",
              "      <td>-0.083112</td>\n",
              "      <td>-0.010473</td>\n",
              "      <td>0.134874</td>\n",
              "    </tr>\n",
              "    <tr>\n",
              "      <th>MaxHeartRate</th>\n",
              "      <td>-0.372462</td>\n",
              "      <td>-0.033672</td>\n",
              "      <td>0.283540</td>\n",
              "      <td>-0.062824</td>\n",
              "      <td>-0.023373</td>\n",
              "      <td>0.061493</td>\n",
              "      <td>1.000000</td>\n",
              "      <td>-0.385018</td>\n",
              "      <td>-0.347537</td>\n",
              "      <td>0.384044</td>\n",
              "      <td>-0.241752</td>\n",
              "      <td>-0.093800</td>\n",
              "      <td>0.411102</td>\n",
              "    </tr>\n",
              "    <tr>\n",
              "      <th>Ex_In_An</th>\n",
              "      <td>0.087872</td>\n",
              "      <td>0.143460</td>\n",
              "      <td>-0.392937</td>\n",
              "      <td>0.060805</td>\n",
              "      <td>0.098363</td>\n",
              "      <td>-0.068807</td>\n",
              "      <td>-0.385018</td>\n",
              "      <td>1.000000</td>\n",
              "      <td>0.296357</td>\n",
              "      <td>-0.256106</td>\n",
              "      <td>0.125377</td>\n",
              "      <td>0.205826</td>\n",
              "      <td>-0.435601</td>\n",
              "    </tr>\n",
              "    <tr>\n",
              "      <th>oldpeak</th>\n",
              "      <td>0.199266</td>\n",
              "      <td>0.118164</td>\n",
              "      <td>-0.128530</td>\n",
              "      <td>0.157538</td>\n",
              "      <td>0.045228</td>\n",
              "      <td>-0.056649</td>\n",
              "      <td>-0.347537</td>\n",
              "      <td>0.296357</td>\n",
              "      <td>1.000000</td>\n",
              "      <td>-0.546388</td>\n",
              "      <td>0.226124</td>\n",
              "      <td>0.189494</td>\n",
              "      <td>-0.424610</td>\n",
              "    </tr>\n",
              "    <tr>\n",
              "      <th>slope</th>\n",
              "      <td>-0.157077</td>\n",
              "      <td>-0.032990</td>\n",
              "      <td>0.116854</td>\n",
              "      <td>-0.109781</td>\n",
              "      <td>0.025897</td>\n",
              "      <td>0.090402</td>\n",
              "      <td>0.384044</td>\n",
              "      <td>-0.256106</td>\n",
              "      <td>-0.546388</td>\n",
              "      <td>1.000000</td>\n",
              "      <td>-0.092236</td>\n",
              "      <td>-0.103314</td>\n",
              "      <td>0.343940</td>\n",
              "    </tr>\n",
              "    <tr>\n",
              "      <th>NumMajVest</th>\n",
              "      <td>0.299567</td>\n",
              "      <td>0.113060</td>\n",
              "      <td>-0.195356</td>\n",
              "      <td>0.083441</td>\n",
              "      <td>0.079441</td>\n",
              "      <td>-0.083112</td>\n",
              "      <td>-0.241752</td>\n",
              "      <td>0.125377</td>\n",
              "      <td>0.226124</td>\n",
              "      <td>-0.092236</td>\n",
              "      <td>1.000000</td>\n",
              "      <td>0.160085</td>\n",
              "      <td>-0.408992</td>\n",
              "    </tr>\n",
              "    <tr>\n",
              "      <th>ThallTest</th>\n",
              "      <td>0.061340</td>\n",
              "      <td>0.211452</td>\n",
              "      <td>-0.160370</td>\n",
              "      <td>0.037355</td>\n",
              "      <td>0.071110</td>\n",
              "      <td>-0.010473</td>\n",
              "      <td>-0.093800</td>\n",
              "      <td>0.205826</td>\n",
              "      <td>0.189494</td>\n",
              "      <td>-0.103314</td>\n",
              "      <td>0.160085</td>\n",
              "      <td>1.000000</td>\n",
              "      <td>-0.343101</td>\n",
              "    </tr>\n",
              "    <tr>\n",
              "      <th>output</th>\n",
              "      <td>-0.215786</td>\n",
              "      <td>-0.283609</td>\n",
              "      <td>0.432080</td>\n",
              "      <td>-0.125555</td>\n",
              "      <td>-0.111607</td>\n",
              "      <td>0.134874</td>\n",
              "      <td>0.411102</td>\n",
              "      <td>-0.435601</td>\n",
              "      <td>-0.424610</td>\n",
              "      <td>0.343940</td>\n",
              "      <td>-0.408992</td>\n",
              "      <td>-0.343101</td>\n",
              "      <td>1.000000</td>\n",
              "    </tr>\n",
              "  </tbody>\n",
              "</table>\n",
              "</div>\n",
              "      <button class=\"colab-df-convert\" onclick=\"convertToInteractive('df-4bbbc7fd-d734-4cb1-92b8-bc6f8eaa453d')\"\n",
              "              title=\"Convert this dataframe to an interactive table.\"\n",
              "              style=\"display:none;\">\n",
              "        \n",
              "  <svg xmlns=\"http://www.w3.org/2000/svg\" height=\"24px\"viewBox=\"0 0 24 24\"\n",
              "       width=\"24px\">\n",
              "    <path d=\"M0 0h24v24H0V0z\" fill=\"none\"/>\n",
              "    <path d=\"M18.56 5.44l.94 2.06.94-2.06 2.06-.94-2.06-.94-.94-2.06-.94 2.06-2.06.94zm-11 1L8.5 8.5l.94-2.06 2.06-.94-2.06-.94L8.5 2.5l-.94 2.06-2.06.94zm10 10l.94 2.06.94-2.06 2.06-.94-2.06-.94-.94-2.06-.94 2.06-2.06.94z\"/><path d=\"M17.41 7.96l-1.37-1.37c-.4-.4-.92-.59-1.43-.59-.52 0-1.04.2-1.43.59L10.3 9.45l-7.72 7.72c-.78.78-.78 2.05 0 2.83L4 21.41c.39.39.9.59 1.41.59.51 0 1.02-.2 1.41-.59l7.78-7.78 2.81-2.81c.8-.78.8-2.07 0-2.86zM5.41 20L4 18.59l7.72-7.72 1.47 1.35L5.41 20z\"/>\n",
              "  </svg>\n",
              "      </button>\n",
              "      \n",
              "  <style>\n",
              "    .colab-df-container {\n",
              "      display:flex;\n",
              "      flex-wrap:wrap;\n",
              "      gap: 12px;\n",
              "    }\n",
              "\n",
              "    .colab-df-convert {\n",
              "      background-color: #E8F0FE;\n",
              "      border: none;\n",
              "      border-radius: 50%;\n",
              "      cursor: pointer;\n",
              "      display: none;\n",
              "      fill: #1967D2;\n",
              "      height: 32px;\n",
              "      padding: 0 0 0 0;\n",
              "      width: 32px;\n",
              "    }\n",
              "\n",
              "    .colab-df-convert:hover {\n",
              "      background-color: #E2EBFA;\n",
              "      box-shadow: 0px 1px 2px rgba(60, 64, 67, 0.3), 0px 1px 3px 1px rgba(60, 64, 67, 0.15);\n",
              "      fill: #174EA6;\n",
              "    }\n",
              "\n",
              "    [theme=dark] .colab-df-convert {\n",
              "      background-color: #3B4455;\n",
              "      fill: #D2E3FC;\n",
              "    }\n",
              "\n",
              "    [theme=dark] .colab-df-convert:hover {\n",
              "      background-color: #434B5C;\n",
              "      box-shadow: 0px 1px 3px 1px rgba(0, 0, 0, 0.15);\n",
              "      filter: drop-shadow(0px 1px 2px rgba(0, 0, 0, 0.3));\n",
              "      fill: #FFFFFF;\n",
              "    }\n",
              "  </style>\n",
              "\n",
              "      <script>\n",
              "        const buttonEl =\n",
              "          document.querySelector('#df-4bbbc7fd-d734-4cb1-92b8-bc6f8eaa453d button.colab-df-convert');\n",
              "        buttonEl.style.display =\n",
              "          google.colab.kernel.accessAllowed ? 'block' : 'none';\n",
              "\n",
              "        async function convertToInteractive(key) {\n",
              "          const element = document.querySelector('#df-4bbbc7fd-d734-4cb1-92b8-bc6f8eaa453d');\n",
              "          const dataTable =\n",
              "            await google.colab.kernel.invokeFunction('convertToInteractive',\n",
              "                                                     [key], {});\n",
              "          if (!dataTable) return;\n",
              "\n",
              "          const docLinkHtml = 'Like what you see? Visit the ' +\n",
              "            '<a target=\"_blank\" href=https://colab.research.google.com/notebooks/data_table.ipynb>data table notebook</a>'\n",
              "            + ' to learn more about interactive tables.';\n",
              "          element.innerHTML = '';\n",
              "          dataTable['output_type'] = 'display_data';\n",
              "          await google.colab.output.renderOutput(dataTable, element);\n",
              "          const docLink = document.createElement('div');\n",
              "          docLink.innerHTML = docLinkHtml;\n",
              "          element.appendChild(docLink);\n",
              "        }\n",
              "      </script>\n",
              "    </div>\n",
              "  </div>\n",
              "  "
            ]
          },
          "metadata": {},
          "execution_count": 29
        }
      ]
    },
    {
      "cell_type": "code",
      "source": [
        "%matplotlib inline\n",
        "import seaborn as sns\n",
        "plt.subplots(figsize=(20,15))\n",
        "sns.heatmap(corr,annot=True)"
      ],
      "metadata": {
        "colab": {
          "base_uri": "https://localhost:8080/",
          "height": 886
        },
        "id": "JpZsVkQjVsd5",
        "outputId": "ad629fb5-b2cd-4138-f0c9-5ce87580b633"
      },
      "execution_count": null,
      "outputs": [
        {
          "output_type": "execute_result",
          "data": {
            "text/plain": [
              "<AxesSubplot:>"
            ]
          },
          "metadata": {},
          "execution_count": 30
        },
        {
          "output_type": "display_data",
          "data": {
            "text/plain": [
              "<Figure size 1440x1080 with 2 Axes>"
            ],
            "image/png": "[encoded data removed]"
          },
          "metadata": {
            "needs_background": "light"
          }
        }
      ]
    },
    {
      "cell_type": "markdown",
      "source": [
        "# 3. MODEL SEÇİMİ"
      ],
      "metadata": {
        "id": "85Zd_VbEudB3"
      }
    },
    {
      "cell_type": "markdown",
      "source": [
        "**3.1 Eğitim ve Test Verisinin Ayırılması(%80, %20)**\n",
        "\n",
        "\n",
        "\n"
      ],
      "metadata": {
        "id": "ErkSmtUdvGOv"
      }
    },
    {
      "cell_type": "code",
      "execution_count": null,
      "metadata": {
        "id": "ZDY7Fzpikur3"
      },
      "outputs": [],
      "source": [
        "from sklearn.model_selection import train_test_split\n",
        "train_set, test_set = train_test_split(\n",
        "    dataset, test_size=0.2, random_state=42)"
      ]
    },
    {
      "cell_type": "markdown",
      "source": [
        "**3.2 Etiket Verisinin Diğer Veriden Ayrılması**"
      ],
      "metadata": {
        "id": "TQFztVEQwlyL"
      }
    },
    {
      "cell_type": "code",
      "execution_count": null,
      "metadata": {
        "id": "4JEtpHntkxSZ"
      },
      "outputs": [],
      "source": [
        "train_set_labels = train_set[\"output\"].copy()\n",
        "train_set = train_set.drop(\"output\", axis=1)\n",
        "\n",
        "test_set_labels = test_set[\"output\"].copy()\n",
        "test_set = test_set.drop(\"output\", axis=1)"
      ]
    },
    {
      "cell_type": "markdown",
      "source": [
        "**3.3 Standart Ölçeklendirme Yapılması**"
      ],
      "metadata": {
        "id": "rtm6SJb7w3B7"
      }
    },
    {
      "cell_type": "code",
      "execution_count": null,
      "metadata": {
        "id": "h5ERbKdsk1Jl"
      },
      "outputs": [],
      "source": [
        "from sklearn.preprocessing import StandardScaler as Scaler\n",
        "\n",
        "scaler = Scaler()\n",
        "scaler.fit(train_set)\n",
        "train_set_scaled = scaler.transform(train_set)\n",
        "test_set_scaled = scaler.transform(test_set)"
      ]
    },
    {
      "cell_type": "code",
      "execution_count": null,
      "metadata": {
        "id": "-IH6BA2Jk36e",
        "colab": {
          "base_uri": "https://localhost:8080/",
          "height": 206
        },
        "outputId": "7f2d9469-c669-47da-f71b-fcf1f8412b4e"
      },
      "outputs": [
        {
          "output_type": "execute_result",
          "data": {
            "text/plain": [
              "         0         1         2         3         4         5         6   \\\n",
              "0 -1.384460  0.731459  0.000000 -0.637404  1.161044  0.890028  0.546464   \n",
              "1  1.500081  0.731459  0.966493  2.954225  0.691861 -0.991522  0.000647   \n",
              "2  1.389137  0.731459 -0.966493 -0.338101  0.245021  0.890028  0.591949   \n",
              "3  0.057810 -1.367131  0.000000  0.260504  0.155653 -0.991522  0.500980   \n",
              "4  1.056305  0.731459  0.966493  0.559806  2.054726  0.890028  0.364525   \n",
              "\n",
              "         7         8         9         10        11  \n",
              "0 -0.659184 -0.939790  0.965436 -0.683490 -0.545762  \n",
              "1  1.517027  0.633831 -0.684707 -0.683490  1.140502  \n",
              "2 -0.659184 -0.743088 -0.684707  1.350103  1.140502  \n",
              "3 -0.659184  0.437129 -0.684707 -0.683490 -0.545762  \n",
              "4 -0.659184 -0.939790  0.965436 -0.683490 -0.545762  "
            ],
            "text/html": [
              "\n",
              "  <div id=\"df-856e4efc-20f7-4716-a127-08f0db4ecd1c\">\n",
              "    <div class=\"colab-df-container\">\n",
              "      <div>\n",
              "<style scoped>\n",
              "    .dataframe tbody tr th:only-of-type {\n",
              "        vertical-align: middle;\n",
              "    }\n",
              "\n",
              "    .dataframe tbody tr th {\n",
              "        vertical-align: top;\n",
              "    }\n",
              "\n",
              "    .dataframe thead th {\n",
              "        text-align: right;\n",
              "    }\n",
              "</style>\n",
              "<table border=\"1\" class=\"dataframe\">\n",
              "  <thead>\n",
              "    <tr style=\"text-align: right;\">\n",
              "      <th></th>\n",
              "      <th>0</th>\n",
              "      <th>1</th>\n",
              "      <th>2</th>\n",
              "      <th>3</th>\n",
              "      <th>4</th>\n",
              "      <th>5</th>\n",
              "      <th>6</th>\n",
              "      <th>7</th>\n",
              "      <th>8</th>\n",
              "      <th>9</th>\n",
              "      <th>10</th>\n",
              "      <th>11</th>\n",
              "    </tr>\n",
              "  </thead>\n",
              "  <tbody>\n",
              "    <tr>\n",
              "      <th>0</th>\n",
              "      <td>-1.384460</td>\n",
              "      <td>0.731459</td>\n",
              "      <td>0.000000</td>\n",
              "      <td>-0.637404</td>\n",
              "      <td>1.161044</td>\n",
              "      <td>0.890028</td>\n",
              "      <td>0.546464</td>\n",
              "      <td>-0.659184</td>\n",
              "      <td>-0.939790</td>\n",
              "      <td>0.965436</td>\n",
              "      <td>-0.683490</td>\n",
              "      <td>-0.545762</td>\n",
              "    </tr>\n",
              "    <tr>\n",
              "      <th>1</th>\n",
              "      <td>1.500081</td>\n",
              "      <td>0.731459</td>\n",
              "      <td>0.966493</td>\n",
              "      <td>2.954225</td>\n",
              "      <td>0.691861</td>\n",
              "      <td>-0.991522</td>\n",
              "      <td>0.000647</td>\n",
              "      <td>1.517027</td>\n",
              "      <td>0.633831</td>\n",
              "      <td>-0.684707</td>\n",
              "      <td>-0.683490</td>\n",
              "      <td>1.140502</td>\n",
              "    </tr>\n",
              "    <tr>\n",
              "      <th>2</th>\n",
              "      <td>1.389137</td>\n",
              "      <td>0.731459</td>\n",
              "      <td>-0.966493</td>\n",
              "      <td>-0.338101</td>\n",
              "      <td>0.245021</td>\n",
              "      <td>0.890028</td>\n",
              "      <td>0.591949</td>\n",
              "      <td>-0.659184</td>\n",
              "      <td>-0.743088</td>\n",
              "      <td>-0.684707</td>\n",
              "      <td>1.350103</td>\n",
              "      <td>1.140502</td>\n",
              "    </tr>\n",
              "    <tr>\n",
              "      <th>3</th>\n",
              "      <td>0.057810</td>\n",
              "      <td>-1.367131</td>\n",
              "      <td>0.000000</td>\n",
              "      <td>0.260504</td>\n",
              "      <td>0.155653</td>\n",
              "      <td>-0.991522</td>\n",
              "      <td>0.500980</td>\n",
              "      <td>-0.659184</td>\n",
              "      <td>0.437129</td>\n",
              "      <td>-0.684707</td>\n",
              "      <td>-0.683490</td>\n",
              "      <td>-0.545762</td>\n",
              "    </tr>\n",
              "    <tr>\n",
              "      <th>4</th>\n",
              "      <td>1.056305</td>\n",
              "      <td>0.731459</td>\n",
              "      <td>0.966493</td>\n",
              "      <td>0.559806</td>\n",
              "      <td>2.054726</td>\n",
              "      <td>0.890028</td>\n",
              "      <td>0.364525</td>\n",
              "      <td>-0.659184</td>\n",
              "      <td>-0.939790</td>\n",
              "      <td>0.965436</td>\n",
              "      <td>-0.683490</td>\n",
              "      <td>-0.545762</td>\n",
              "    </tr>\n",
              "  </tbody>\n",
              "</table>\n",
              "</div>\n",
              "      <button class=\"colab-df-convert\" onclick=\"convertToInteractive('df-856e4efc-20f7-4716-a127-08f0db4ecd1c')\"\n",
              "              title=\"Convert this dataframe to an interactive table.\"\n",
              "              style=\"display:none;\">\n",
              "        \n",
              "  <svg xmlns=\"http://www.w3.org/2000/svg\" height=\"24px\"viewBox=\"0 0 24 24\"\n",
              "       width=\"24px\">\n",
              "    <path d=\"M0 0h24v24H0V0z\" fill=\"none\"/>\n",
              "    <path d=\"M18.56 5.44l.94 2.06.94-2.06 2.06-.94-2.06-.94-.94-2.06-.94 2.06-2.06.94zm-11 1L8.5 8.5l.94-2.06 2.06-.94-2.06-.94L8.5 2.5l-.94 2.06-2.06.94zm10 10l.94 2.06.94-2.06 2.06-.94-2.06-.94-.94-2.06-.94 2.06-2.06.94z\"/><path d=\"M17.41 7.96l-1.37-1.37c-.4-.4-.92-.59-1.43-.59-.52 0-1.04.2-1.43.59L10.3 9.45l-7.72 7.72c-.78.78-.78 2.05 0 2.83L4 21.41c.39.39.9.59 1.41.59.51 0 1.02-.2 1.41-.59l7.78-7.78 2.81-2.81c.8-.78.8-2.07 0-2.86zM5.41 20L4 18.59l7.72-7.72 1.47 1.35L5.41 20z\"/>\n",
              "  </svg>\n",
              "      </button>\n",
              "      \n",
              "  <style>\n",
              "    .colab-df-container {\n",
              "      display:flex;\n",
              "      flex-wrap:wrap;\n",
              "      gap: 12px;\n",
              "    }\n",
              "\n",
              "    .colab-df-convert {\n",
              "      background-color: #E8F0FE;\n",
              "      border: none;\n",
              "      border-radius: 50%;\n",
              "      cursor: pointer;\n",
              "      display: none;\n",
              "      fill: #1967D2;\n",
              "      height: 32px;\n",
              "      padding: 0 0 0 0;\n",
              "      width: 32px;\n",
              "    }\n",
              "\n",
              "    .colab-df-convert:hover {\n",
              "      background-color: #E2EBFA;\n",
              "      box-shadow: 0px 1px 2px rgba(60, 64, 67, 0.3), 0px 1px 3px 1px rgba(60, 64, 67, 0.15);\n",
              "      fill: #174EA6;\n",
              "    }\n",
              "\n",
              "    [theme=dark] .colab-df-convert {\n",
              "      background-color: #3B4455;\n",
              "      fill: #D2E3FC;\n",
              "    }\n",
              "\n",
              "    [theme=dark] .colab-df-convert:hover {\n",
              "      background-color: #434B5C;\n",
              "      box-shadow: 0px 1px 3px 1px rgba(0, 0, 0, 0.15);\n",
              "      filter: drop-shadow(0px 1px 2px rgba(0, 0, 0, 0.3));\n",
              "      fill: #FFFFFF;\n",
              "    }\n",
              "  </style>\n",
              "\n",
              "      <script>\n",
              "        const buttonEl =\n",
              "          document.querySelector('#df-856e4efc-20f7-4716-a127-08f0db4ecd1c button.colab-df-convert');\n",
              "        buttonEl.style.display =\n",
              "          google.colab.kernel.accessAllowed ? 'block' : 'none';\n",
              "\n",
              "        async function convertToInteractive(key) {\n",
              "          const element = document.querySelector('#df-856e4efc-20f7-4716-a127-08f0db4ecd1c');\n",
              "          const dataTable =\n",
              "            await google.colab.kernel.invokeFunction('convertToInteractive',\n",
              "                                                     [key], {});\n",
              "          if (!dataTable) return;\n",
              "\n",
              "          const docLinkHtml = 'Like what you see? Visit the ' +\n",
              "            '<a target=\"_blank\" href=https://colab.research.google.com/notebooks/data_table.ipynb>data table notebook</a>'\n",
              "            + ' to learn more about interactive tables.';\n",
              "          element.innerHTML = '';\n",
              "          dataTable['output_type'] = 'display_data';\n",
              "          await google.colab.output.renderOutput(dataTable, element);\n",
              "          const docLink = document.createElement('div');\n",
              "          docLink.innerHTML = docLinkHtml;\n",
              "          element.appendChild(docLink);\n",
              "        }\n",
              "      </script>\n",
              "    </div>\n",
              "  </div>\n",
              "  "
            ]
          },
          "metadata": {},
          "execution_count": 34
        }
      ],
      "source": [
        "dataset = pd.DataFrame(data=train_set_scaled)\n",
        "dataset.head()"
      ]
    },
    {
      "cell_type": "markdown",
      "source": [
        "**3.4 Test Etmek İstediğimiz Algoritmaların Yüklenemsi**"
      ],
      "metadata": {
        "id": "DlN-v7eVxC7B"
      }
    },
    {
      "cell_type": "code",
      "execution_count": null,
      "metadata": {
        "id": "6T4zbJnXlA5T"
      },
      "outputs": [],
      "source": [
        "from sklearn.linear_model import LogisticRegression\n",
        "from sklearn.neighbors import KNeighborsClassifier\n",
        "from sklearn.naive_bayes import GaussianNB\n",
        "from sklearn.svm import SVC\n",
        "from sklearn.svm import LinearSVC\n",
        "from sklearn.ensemble import RandomForestClassifier\n",
        "from sklearn.tree import DecisionTreeRegressor"
      ]
    },
    {
      "cell_type": "markdown",
      "source": [
        "**3.5 Algoritmaların Karşılaştırılması İçin Slearn Yüklenmesi**"
      ],
      "metadata": {
        "id": "ls2MGaHLxeKa"
      }
    },
    {
      "cell_type": "code",
      "execution_count": null,
      "metadata": {
        "id": "97gCAQi7lFBb"
      },
      "outputs": [],
      "source": [
        "from sklearn import model_selection"
      ]
    },
    {
      "cell_type": "markdown",
      "source": [
        "**3.6 Algoritmaları İçeren Dizinin Hazırlanması**"
      ],
      "metadata": {
        "id": "VX9_H8UHx8w-"
      }
    },
    {
      "cell_type": "code",
      "execution_count": null,
      "metadata": {
        "id": "fzXBlGPGlH2V"
      },
      "outputs": [],
      "source": [
        "models = []\n",
        "models.append(('LR', LogisticRegression()))\n",
        "models.append(('KNN', KNeighborsClassifier()))\n",
        "models.append(('NB', GaussianNB()))\n",
        "models.append(('SVC', SVC()))\n",
        "models.append(('LSVC', LinearSVC()))\n",
        "models.append(('RFC', RandomForestClassifier()))\n",
        "models.append(('DTR', DecisionTreeRegressor()))"
      ]
    },
    {
      "cell_type": "markdown",
      "source": [
        "**3.7 Test İçin İlgili Konfigurasyonun Hazırlanması**"
      ],
      "metadata": {
        "id": "H4Z1GzlbyGOq"
      }
    },
    {
      "cell_type": "code",
      "execution_count": null,
      "metadata": {
        "id": "dGhlL-TalK3E"
      },
      "outputs": [],
      "source": [
        "seed = 7\n",
        "results = []\n",
        "names = []\n",
        "X = train_set_scaled\n",
        "Y = train_set_labels"
      ]
    },
    {
      "cell_type": "markdown",
      "source": [
        "**3.8 Testin Başlatılması ve Sonuçlarının Görülmesi**"
      ],
      "metadata": {
        "id": "HwyPwHGsyrDX"
      }
    },
    {
      "cell_type": "code",
      "execution_count": null,
      "metadata": {
        "id": "zRVu7dwblPmM",
        "colab": {
          "base_uri": "https://localhost:8080/"
        },
        "outputId": "dd0d64b8-d12e-4d5b-9e4b-b35ac58c31cb"
      },
      "outputs": [
        {
          "output_type": "stream",
          "name": "stdout",
          "text": [
            "LR: 0.813542 (0.122410)\n",
            "KNN: 0.817500 (0.110739)\n",
            "NB: 0.810417 (0.099752)\n",
            "SVC: 0.830417 (0.104459)\n",
            "LSVC: 0.820417 (0.111942)\n",
            "RFC: 0.827500 (0.097623)\n",
            "DTR: 0.757917 (0.097867)\n"
          ]
        }
      ],
      "source": [
        "# Every algorithm is tested and results are\n",
        "# collected and printed\n",
        "for name, model in models:\n",
        "    kfold = model_selection.KFold(shuffle=True,\n",
        "        n_splits=20, random_state=seed)\n",
        "    cv_results = model_selection.cross_val_score(\n",
        "        model, X, Y, cv=kfold, scoring='accuracy')\n",
        "    results.append(cv_results)\n",
        "    names.append(name)\n",
        "    msg = \"%s: %f (%f)\" % (\n",
        "        name, cv_results.mean(), cv_results.std())\n",
        "    print(msg)"
      ]
    },
    {
      "cell_type": "markdown",
      "source": [
        "**3.9 Boxplot Grafiği İle Algoritmaların Karşılaştırılması**"
      ],
      "metadata": {
        "id": "hJrsb_08zIEW"
      }
    },
    {
      "cell_type": "code",
      "source": [
        "fig = plt.figure()\n",
        "fig.suptitle('Algorithm Comparison')\n",
        "ax= fig.add_subplot(111)\n",
        "plt.boxplot(results)\n",
        "ax.set_xticklabels(names)\n",
        "plt.show() "
      ],
      "metadata": {
        "id": "oqNDf7bLESlQ",
        "colab": {
          "base_uri": "https://localhost:8080/",
          "height": 294
        },
        "outputId": "da2b9f46-9228-4cde-f45f-e4898ccf4ac0"
      },
      "execution_count": null,
      "outputs": [
        {
          "output_type": "display_data",
          "data": {
            "text/plain": [
              "<Figure size 432x288 with 1 Axes>"
            ],
            "image/png": "[encoded data removed]"
          },
          "metadata": {
            "needs_background": "light"
          }
        }
      ]
    },
    {
      "cell_type": "markdown",
      "source": [
        "**Bulgular:**\n",
        "En uygun algoritma olarak SVC seçilmiştir."
      ],
      "metadata": {
        "id": "kVkCPIt1bsh1"
      }
    },
    {
      "cell_type": "markdown",
      "source": [
        "**3.10 Model Seçimi ve Uygulanması**"
      ],
      "metadata": {
        "id": "84MlnbQ82TaR"
      }
    },
    {
      "cell_type": "code",
      "source": [
        "from sklearn.model_selection import GridSearchCV,RandomizedSearchCV\n",
        "\n",
        "param_grid = {\n",
        "    'C': [1.0, 10.0, 50.0],\n",
        "    'kernel': ['linear', 'rbf', 'poly', 'sigmoid'],\n",
        "    'shrinking': [True, False],\n",
        "    'gamma': ['auto', 1, 0.1],\n",
        "    'coef0': [0.0, 0.1, 0.5]\n",
        "}\n",
        "\n",
        "model_svc = SVC()\n",
        "\n",
        "grid_search = RandomizedSearchCV(\n",
        "    model_svc, param_grid, cv=5, scoring='accuracy')\n",
        "grid_search.fit(train_set_scaled, train_set_labels)"
      ],
      "metadata": {
        "id": "-If78SfzuV0Z",
        "colab": {
          "base_uri": "https://localhost:8080/",
          "height": 117
        },
        "outputId": "b6934234-1030-4dde-f239-966ab5ae9110"
      },
      "execution_count": null,
      "outputs": [
        {
          "output_type": "execute_result",
          "data": {
            "text/plain": [
              "RandomizedSearchCV(cv=5, estimator=SVC(),\n",
              "                   param_distributions={'C': [1.0, 10.0, 50.0],\n",
              "                                        'coef0': [0.0, 0.1, 0.5],\n",
              "                                        'gamma': ['auto', 1, 0.1],\n",
              "                                        'kernel': ['linear', 'rbf', 'poly',\n",
              "                                                   'sigmoid'],\n",
              "                                        'shrinking': [True, False]},\n",
              "                   scoring='accuracy')"
            ],
            "text/html": [
              "<style>#sk-container-id-1 {color: black;background-color: white;}#sk-container-id-1 pre{padding: 0;}#sk-container-id-1 div.sk-toggleable {background-color: white;}#sk-container-id-1 label.sk-toggleable__label {cursor: pointer;display: block;width: 100%;margin-bottom: 0;padding: 0.3em;box-sizing: border-box;text-align: center;}#sk-container-id-1 label.sk-toggleable__label-arrow:before {content: \"▸\";float: left;margin-right: 0.25em;color: #696969;}#sk-container-id-1 label.sk-toggleable__label-arrow:hover:before {color: black;}#sk-container-id-1 div.sk-estimator:hover label.sk-toggleable__label-arrow:before {color: black;}#sk-container-id-1 div.sk-toggleable__content {max-height: 0;max-width: 0;overflow: hidden;text-align: left;background-color: #f0f8ff;}#sk-container-id-1 div.sk-toggleable__content pre {margin: 0.2em;color: black;border-radius: 0.25em;background-color: #f0f8ff;}#sk-container-id-1 input.sk-toggleable__control:checked~div.sk-toggleable__content {max-height: 200px;max-width: 100%;overflow: auto;}#sk-container-id-1 input.sk-toggleable__control:checked~label.sk-toggleable__label-arrow:before {content: \"▾\";}#sk-container-id-1 div.sk-estimator input.sk-toggleable__control:checked~label.sk-toggleable__label {background-color: #d4ebff;}#sk-container-id-1 div.sk-label input.sk-toggleable__control:checked~label.sk-toggleable__label {background-color: #d4ebff;}#sk-container-id-1 input.sk-hidden--visually {border: 0;clip: rect(1px 1px 1px 1px);clip: rect(1px, 1px, 1px, 1px);height: 1px;margin: -1px;overflow: hidden;padding: 0;position: absolute;width: 1px;}#sk-container-id-1 div.sk-estimator {font-family: monospace;background-color: #f0f8ff;border: 1px dotted black;border-radius: 0.25em;box-sizing: border-box;margin-bottom: 0.5em;}#sk-container-id-1 div.sk-estimator:hover {background-color: #d4ebff;}#sk-container-id-1 div.sk-parallel-item::after {content: \"\";width: 100%;border-bottom: 1px solid gray;flex-grow: 1;}#sk-container-id-1 div.sk-label:hover label.sk-toggleable__label {background-color: #d4ebff;}#sk-container-id-1 div.sk-serial::before {content: \"\";position: absolute;border-left: 1px solid gray;box-sizing: border-box;top: 0;bottom: 0;left: 50%;z-index: 0;}#sk-container-id-1 div.sk-serial {display: flex;flex-direction: column;align-items: center;background-color: white;padding-right: 0.2em;padding-left: 0.2em;position: relative;}#sk-container-id-1 div.sk-item {position: relative;z-index: 1;}#sk-container-id-1 div.sk-parallel {display: flex;align-items: stretch;justify-content: center;background-color: white;position: relative;}#sk-container-id-1 div.sk-item::before, #sk-container-id-1 div.sk-parallel-item::before {content: \"\";position: absolute;border-left: 1px solid gray;box-sizing: border-box;top: 0;bottom: 0;left: 50%;z-index: -1;}#sk-container-id-1 div.sk-parallel-item {display: flex;flex-direction: column;z-index: 1;position: relative;background-color: white;}#sk-container-id-1 div.sk-parallel-item:first-child::after {align-self: flex-end;width: 50%;}#sk-container-id-1 div.sk-parallel-item:last-child::after {align-self: flex-start;width: 50%;}#sk-container-id-1 div.sk-parallel-item:only-child::after {width: 0;}#sk-container-id-1 div.sk-dashed-wrapped {border: 1px dashed gray;margin: 0 0.4em 0.5em 0.4em;box-sizing: border-box;padding-bottom: 0.4em;background-color: white;}#sk-container-id-1 div.sk-label label {font-family: monospace;font-weight: bold;display: inline-block;line-height: 1.2em;}#sk-container-id-1 div.sk-label-container {text-align: center;}#sk-container-id-1 div.sk-container {/* jupyter's `normalize.less` sets `[hidden] { display: none; }` but bootstrap.min.css set `[hidden] { display: none !important; }` so we also need the `!important` here to be able to override the default hidden behavior on the sphinx rendered scikit-learn.org. See: https://github.com/scikit-learn/scikit-learn/issues/21755 */display: inline-block !important;position: relative;}#sk-container-id-1 div.sk-text-repr-fallback {display: none;}</style><div id=\"sk-container-id-1\" class=\"sk-top-container\"><div class=\"sk-text-repr-fallback\"><pre>RandomizedSearchCV(cv=5, estimator=SVC(),\n",
              "                   param_distributions={&#x27;C&#x27;: [1.0, 10.0, 50.0],\n",
              "                                        &#x27;coef0&#x27;: [0.0, 0.1, 0.5],\n",
              "                                        &#x27;gamma&#x27;: [&#x27;auto&#x27;, 1, 0.1],\n",
              "                                        &#x27;kernel&#x27;: [&#x27;linear&#x27;, &#x27;rbf&#x27;, &#x27;poly&#x27;,\n",
              "                                                   &#x27;sigmoid&#x27;],\n",
              "                                        &#x27;shrinking&#x27;: [True, False]},\n",
              "                   scoring=&#x27;accuracy&#x27;)</pre><b>In a Jupyter environment, please rerun this cell to show the HTML representation or trust the notebook. <br />On GitHub, the HTML representation is unable to render, please try loading this page with nbviewer.org.</b></div><div class=\"sk-container\" hidden><div class=\"sk-item sk-dashed-wrapped\"><div class=\"sk-label-container\"><div class=\"sk-label sk-toggleable\"><input class=\"sk-toggleable__control sk-hidden--visually\" id=\"sk-estimator-id-1\" type=\"checkbox\" ><label for=\"sk-estimator-id-1\" class=\"sk-toggleable__label sk-toggleable__label-arrow\">RandomizedSearchCV</label><div class=\"sk-toggleable__content\"><pre>RandomizedSearchCV(cv=5, estimator=SVC(),\n",
              "                   param_distributions={&#x27;C&#x27;: [1.0, 10.0, 50.0],\n",
              "                                        &#x27;coef0&#x27;: [0.0, 0.1, 0.5],\n",
              "                                        &#x27;gamma&#x27;: [&#x27;auto&#x27;, 1, 0.1],\n",
              "                                        &#x27;kernel&#x27;: [&#x27;linear&#x27;, &#x27;rbf&#x27;, &#x27;poly&#x27;,\n",
              "                                                   &#x27;sigmoid&#x27;],\n",
              "                                        &#x27;shrinking&#x27;: [True, False]},\n",
              "                   scoring=&#x27;accuracy&#x27;)</pre></div></div></div><div class=\"sk-parallel\"><div class=\"sk-parallel-item\"><div class=\"sk-item\"><div class=\"sk-label-container\"><div class=\"sk-label sk-toggleable\"><input class=\"sk-toggleable__control sk-hidden--visually\" id=\"sk-estimator-id-2\" type=\"checkbox\" ><label for=\"sk-estimator-id-2\" class=\"sk-toggleable__label sk-toggleable__label-arrow\">estimator: SVC</label><div class=\"sk-toggleable__content\"><pre>SVC()</pre></div></div></div><div class=\"sk-serial\"><div class=\"sk-item\"><div class=\"sk-estimator sk-toggleable\"><input class=\"sk-toggleable__control sk-hidden--visually\" id=\"sk-estimator-id-3\" type=\"checkbox\" ><label for=\"sk-estimator-id-3\" class=\"sk-toggleable__label sk-toggleable__label-arrow\">SVC</label><div class=\"sk-toggleable__content\"><pre>SVC()</pre></div></div></div></div></div></div></div></div></div></div>"
            ]
          },
          "metadata": {},
          "execution_count": 41
        }
      ]
    },
    {
      "cell_type": "markdown",
      "source": [
        "**3.11 Ulaşılan En Yüksek Değer:**"
      ],
      "metadata": {
        "id": "fdIqO59tbcOZ"
      }
    },
    {
      "cell_type": "code",
      "source": [
        "grid_search.best_score_"
      ],
      "metadata": {
        "id": "lArLNHCKurin",
        "colab": {
          "base_uri": "https://localhost:8080/"
        },
        "outputId": "1393bf4e-5f43-44ca-ca0b-cfd10606168d"
      },
      "execution_count": null,
      "outputs": [
        {
          "output_type": "execute_result",
          "data": {
            "text/plain": [
              "0.8382653061224488"
            ]
          },
          "metadata": {},
          "execution_count": 42
        }
      ]
    },
    {
      "cell_type": "code",
      "source": [
        "svc = grid_search.best_estimator_"
      ],
      "metadata": {
        "id": "DToHEngZuu0Y"
      },
      "execution_count": null,
      "outputs": []
    },
    {
      "cell_type": "code",
      "source": [
        "predictions =  svc.predict(test_set_scaled)"
      ],
      "metadata": {
        "id": "izwCbcqwuxX8"
      },
      "execution_count": null,
      "outputs": []
    },
    {
      "cell_type": "markdown",
      "source": [
        "# 4. DEĞERLENDİRME"
      ],
      "metadata": {
        "id": "St-i7wAM2k-a"
      }
    },
    {
      "cell_type": "markdown",
      "source": [
        "**4.1 Confusion Matrix ile Değerlendirme**"
      ],
      "metadata": {
        "id": "cih9ZhNO2xKZ"
      }
    },
    {
      "cell_type": "code",
      "source": [
        "from sklearn import metrics\n",
        "confMatrix = metrics.confusion_matrix(test_set_labels,predictions)\n",
        "import seaborn as sns\n",
        "sns.heatmap(confMatrix,annot=True)"
      ],
      "metadata": {
        "id": "jp69fuvruz3Y",
        "colab": {
          "base_uri": "https://localhost:8080/",
          "height": 283
        },
        "outputId": "e532d4e9-9549-487d-9e3f-3a88baf527a9"
      },
      "execution_count": null,
      "outputs": [
        {
          "output_type": "execute_result",
          "data": {
            "text/plain": [
              "<AxesSubplot:>"
            ]
          },
          "metadata": {},
          "execution_count": 45
        },
        {
          "output_type": "display_data",
          "data": {
            "text/plain": [
              "<Figure size 432x288 with 2 Axes>"
            ],
            "image/png": "[encoded data removed]"
          },
          "metadata": {
            "needs_background": "light"
          }
        }
      ]
    },
    {
      "cell_type": "markdown",
      "source": [
        "**Bulgular:**\n",
        "Yapılan değerlendirmede 50 örnek kümesi üzerinden 11 hatalı değer tespit edilmiştir."
      ],
      "metadata": {
        "id": "lrcWoDTzbA9B"
      }
    },
    {
      "cell_type": "markdown",
      "source": [
        "**4.2 En İyi Sonuç Veren Parametre İle Obje Oluşturma / Bütün Veri Tabanını Eğitme / Modeli Eğitme**"
      ],
      "metadata": {
        "id": "6xRgDtm025g8"
      }
    },
    {
      "cell_type": "code",
      "source": [
        "svc = grid_search.best_estimator_\n",
        "\n",
        "\n",
        "X = np.append(train_set_scaled, test_set_scaled, axis=0)\n",
        "Y = np.append(train_set_labels, test_set_labels, axis=0)\n",
        "\n",
        "\n",
        "svc.fit(X, Y)"
      ],
      "metadata": {
        "id": "VfeiRNQou3P4",
        "colab": {
          "base_uri": "https://localhost:8080/",
          "height": 74
        },
        "outputId": "26fc58f9-92d7-4e83-a4d8-daa44fe12e65"
      },
      "execution_count": null,
      "outputs": [
        {
          "output_type": "execute_result",
          "data": {
            "text/plain": [
              "SVC(C=50.0, gamma=1, kernel='linear')"
            ],
            "text/html": [
              "<style>#sk-container-id-2 {color: black;background-color: white;}#sk-container-id-2 pre{padding: 0;}#sk-container-id-2 div.sk-toggleable {background-color: white;}#sk-container-id-2 label.sk-toggleable__label {cursor: pointer;display: block;width: 100%;margin-bottom: 0;padding: 0.3em;box-sizing: border-box;text-align: center;}#sk-container-id-2 label.sk-toggleable__label-arrow:before {content: \"▸\";float: left;margin-right: 0.25em;color: #696969;}#sk-container-id-2 label.sk-toggleable__label-arrow:hover:before {color: black;}#sk-container-id-2 div.sk-estimator:hover label.sk-toggleable__label-arrow:before {color: black;}#sk-container-id-2 div.sk-toggleable__content {max-height: 0;max-width: 0;overflow: hidden;text-align: left;background-color: #f0f8ff;}#sk-container-id-2 div.sk-toggleable__content pre {margin: 0.2em;color: black;border-radius: 0.25em;background-color: #f0f8ff;}#sk-container-id-2 input.sk-toggleable__control:checked~div.sk-toggleable__content {max-height: 200px;max-width: 100%;overflow: auto;}#sk-container-id-2 input.sk-toggleable__control:checked~label.sk-toggleable__label-arrow:before {content: \"▾\";}#sk-container-id-2 div.sk-estimator input.sk-toggleable__control:checked~label.sk-toggleable__label {background-color: #d4ebff;}#sk-container-id-2 div.sk-label input.sk-toggleable__control:checked~label.sk-toggleable__label {background-color: #d4ebff;}#sk-container-id-2 input.sk-hidden--visually {border: 0;clip: rect(1px 1px 1px 1px);clip: rect(1px, 1px, 1px, 1px);height: 1px;margin: -1px;overflow: hidden;padding: 0;position: absolute;width: 1px;}#sk-container-id-2 div.sk-estimator {font-family: monospace;background-color: #f0f8ff;border: 1px dotted black;border-radius: 0.25em;box-sizing: border-box;margin-bottom: 0.5em;}#sk-container-id-2 div.sk-estimator:hover {background-color: #d4ebff;}#sk-container-id-2 div.sk-parallel-item::after {content: \"\";width: 100%;border-bottom: 1px solid gray;flex-grow: 1;}#sk-container-id-2 div.sk-label:hover label.sk-toggleable__label {background-color: #d4ebff;}#sk-container-id-2 div.sk-serial::before {content: \"\";position: absolute;border-left: 1px solid gray;box-sizing: border-box;top: 0;bottom: 0;left: 50%;z-index: 0;}#sk-container-id-2 div.sk-serial {display: flex;flex-direction: column;align-items: center;background-color: white;padding-right: 0.2em;padding-left: 0.2em;position: relative;}#sk-container-id-2 div.sk-item {position: relative;z-index: 1;}#sk-container-id-2 div.sk-parallel {display: flex;align-items: stretch;justify-content: center;background-color: white;position: relative;}#sk-container-id-2 div.sk-item::before, #sk-container-id-2 div.sk-parallel-item::before {content: \"\";position: absolute;border-left: 1px solid gray;box-sizing: border-box;top: 0;bottom: 0;left: 50%;z-index: -1;}#sk-container-id-2 div.sk-parallel-item {display: flex;flex-direction: column;z-index: 1;position: relative;background-color: white;}#sk-container-id-2 div.sk-parallel-item:first-child::after {align-self: flex-end;width: 50%;}#sk-container-id-2 div.sk-parallel-item:last-child::after {align-self: flex-start;width: 50%;}#sk-container-id-2 div.sk-parallel-item:only-child::after {width: 0;}#sk-container-id-2 div.sk-dashed-wrapped {border: 1px dashed gray;margin: 0 0.4em 0.5em 0.4em;box-sizing: border-box;padding-bottom: 0.4em;background-color: white;}#sk-container-id-2 div.sk-label label {font-family: monospace;font-weight: bold;display: inline-block;line-height: 1.2em;}#sk-container-id-2 div.sk-label-container {text-align: center;}#sk-container-id-2 div.sk-container {/* jupyter's `normalize.less` sets `[hidden] { display: none; }` but bootstrap.min.css set `[hidden] { display: none !important; }` so we also need the `!important` here to be able to override the default hidden behavior on the sphinx rendered scikit-learn.org. See: https://github.com/scikit-learn/scikit-learn/issues/21755 */display: inline-block !important;position: relative;}#sk-container-id-2 div.sk-text-repr-fallback {display: none;}</style><div id=\"sk-container-id-2\" class=\"sk-top-container\"><div class=\"sk-text-repr-fallback\"><pre>SVC(C=50.0, gamma=1, kernel=&#x27;linear&#x27;)</pre><b>In a Jupyter environment, please rerun this cell to show the HTML representation or trust the notebook. <br />On GitHub, the HTML representation is unable to render, please try loading this page with nbviewer.org.</b></div><div class=\"sk-container\" hidden><div class=\"sk-item\"><div class=\"sk-estimator sk-toggleable\"><input class=\"sk-toggleable__control sk-hidden--visually\" id=\"sk-estimator-id-4\" type=\"checkbox\" checked><label for=\"sk-estimator-id-4\" class=\"sk-toggleable__label sk-toggleable__label-arrow\">SVC</label><div class=\"sk-toggleable__content\"><pre>SVC(C=50.0, gamma=1, kernel=&#x27;linear&#x27;)</pre></div></div></div></div></div>"
            ]
          },
          "metadata": {},
          "execution_count": 46
        }
      ]
    },
    {
      "cell_type": "markdown",
      "source": [
        "**4.3 Yeni Veriler Girilerek Sistemin Test Edilmesi**"
      ],
      "metadata": {
        "id": "433hujPcaMQU"
      }
    },
    {
      "cell_type": "code",
      "source": [
        "new_df = pd.DataFrame([[55,1,1,130,210,0,1,155,0,1.5,1,2]])\n",
        "new_df_scaled = scaler.transform(new_df)#Ölçeklendirme Yapılmıştır."
      ],
      "metadata": {
        "id": "lVipHf-9u6Fu",
        "colab": {
          "base_uri": "https://localhost:8080/"
        },
        "outputId": "056e690b-4e3c-4972-e730-90c26e5eaef4"
      },
      "execution_count": null,
      "outputs": [
        {
          "output_type": "stream",
          "name": "stderr",
          "text": [
            "/usr/local/lib/python3.8/dist-packages/sklearn/base.py:420: UserWarning: X does not have valid feature names, but StandardScaler was fitted with feature names\n",
            "  warnings.warn(\n"
          ]
        }
      ]
    },
    {
      "cell_type": "markdown",
      "source": [
        "**4.4 Sonucun Tahmin Edilmesi**"
      ],
      "metadata": {
        "id": "iXZx2a2dapaZ"
      }
    },
    {
      "cell_type": "code",
      "source": [
        "prediction = svc.predict(new_df_scaled)"
      ],
      "metadata": {
        "id": "YlztTXzXu7-7"
      },
      "execution_count": null,
      "outputs": []
    },
    {
      "cell_type": "code",
      "source": [
        "prediction"
      ],
      "metadata": {
        "id": "jJfN4fkvu_Oq",
        "colab": {
          "base_uri": "https://localhost:8080/"
        },
        "outputId": "15c4c9d8-5022-4e93-dfb4-aa726ef725f8"
      },
      "execution_count": null,
      "outputs": [
        {
          "output_type": "execute_result",
          "data": {
            "text/plain": [
              "array([0])"
            ]
          },
          "metadata": {},
          "execution_count": 49
        }
      ]
    },
    {
      "cell_type": "markdown",
      "source": [
        "**4.5 Modelin Kaydedilmesi**"
      ],
      "metadata": {
        "id": "1_Nlg9tpa5Iu"
      }
    },
    {
      "cell_type": "code",
      "source": [
        "import pickle\n",
        "import dlib"
      ],
      "metadata": {
        "id": "HTSzDgpdvCtz"
      },
      "execution_count": null,
      "outputs": []
    },
    {
      "cell_type": "code",
      "source": [
        "pickle.dump(svc,open(\"/content/mlmodel1.pkl\",\"wb\"))\n",
        "pickle.dump(scaler,open(\"/content/olcek.pkl\",\"wb\"))"
      ],
      "metadata": {
        "id": "kLiAi6N0vEy6"
      },
      "execution_count": null,
      "outputs": []
    },
    {
      "cell_type": "code",
      "source": [
        "from google.colab import drive\n",
        "drive.mount('/content/drive')"
      ],
      "metadata": {
        "id": "0JxNsObOLht_",
        "colab": {
          "base_uri": "https://localhost:8080/"
        },
        "outputId": "40b8919a-9ea3-4a62-ee96-3aee908aab18"
      },
      "execution_count": null,
      "outputs": [
        {
          "output_type": "stream",
          "name": "stdout",
          "text": [
            "Mounted at /content/drive\n"
          ]
        }
      ]
    }
  ],
  "metadata": {
    "colab": {
      "provenance": []
    },
    "kernelspec": {
      "display_name": "Python 3",
      "name": "python3"
    },
    "language_info": {
      "name": "python"
    }
  },
  "nbformat": 4,
  "nbformat_minor": 0
}